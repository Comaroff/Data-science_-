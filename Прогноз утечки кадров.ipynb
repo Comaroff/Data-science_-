{
 "cells": [
  {
   "cell_type": "code",
   "execution_count": null,
   "id": "8c773bb9",
   "metadata": {},
   "outputs": [],
   "source": [
    "Целью этого исследования является создание модели, которая будет предсказывать, \n",
    "останется ли сотрудник в компании или покинет ее, основываясь на некоторых его или ее\n",
    "характеристиках (особенностях)."
   ]
  },
  {
   "cell_type": "code",
   "execution_count": 2,
   "id": "74dc3c29",
   "metadata": {},
   "outputs": [],
   "source": [
    "import matplotlib.pyplot as plt\n",
    "import pandas as pd\n",
    "import numpy as np\n",
    "import plotly.express as px\n",
    "import seaborn as sns"
   ]
  },
  {
   "cell_type": "code",
   "execution_count": null,
   "id": "51b61e50",
   "metadata": {},
   "outputs": [],
   "source": [
    "Поскольку переменная ответа является дихотомической категориальной переменной, \n",
    "для прогнозирования результата будут использоваться три модели:\n",
    "Линейный дискриминантный анализ (LDA), Логистическая регрессия и \n",
    "классификатор Случайный лес, а затем будет проведено сравнение производительности этих моделей.\n",
    "\n",
    "satisfaction_level  - Уровень удовлетворенности сотрудников\n",
    "Last_evaluation - Последний оценочный балл\n",
    "number_projects - Количество проектов\n",
    "average_monthly_hours - Среднемесячное количество отработанных часов\n",
    "time_spend_company - Время, проведенное в компании\n",
    "work_accident - Произошел ли у них несчастный случай на производстве\n",
    "left - Ушел ли сотрудник из компании\n",
    "promotion_last_5years - Был ли он повышен в должности за последние 5 лет\n",
    "department - Название отдела\n",
    "salary - Категория заработной платы"
   ]
  },
  {
   "cell_type": "code",
   "execution_count": null,
   "id": "347171bc",
   "metadata": {},
   "outputs": [],
   "source": [
    "Исследовательский анализ данных\n",
    "Загрузка и проверка данных:"
   ]
  },
  {
   "cell_type": "code",
   "execution_count": 4,
   "id": "03064a58",
   "metadata": {},
   "outputs": [
    {
     "data": {
      "text/html": [
       "<div>\n",
       "<style scoped>\n",
       "    .dataframe tbody tr th:only-of-type {\n",
       "        vertical-align: middle;\n",
       "    }\n",
       "\n",
       "    .dataframe tbody tr th {\n",
       "        vertical-align: top;\n",
       "    }\n",
       "\n",
       "    .dataframe thead th {\n",
       "        text-align: right;\n",
       "    }\n",
       "</style>\n",
       "<table border=\"1\" class=\"dataframe\">\n",
       "  <thead>\n",
       "    <tr style=\"text-align: right;\">\n",
       "      <th></th>\n",
       "      <th>satisfaction_level</th>\n",
       "      <th>last_evaluation</th>\n",
       "      <th>number_project</th>\n",
       "      <th>average_montly_hours</th>\n",
       "      <th>time_spend_company</th>\n",
       "      <th>Work_accident</th>\n",
       "      <th>left</th>\n",
       "      <th>promotion_last_5years</th>\n",
       "      <th>department</th>\n",
       "      <th>salary</th>\n",
       "    </tr>\n",
       "  </thead>\n",
       "  <tbody>\n",
       "    <tr>\n",
       "      <th>0</th>\n",
       "      <td>0.38</td>\n",
       "      <td>0.53</td>\n",
       "      <td>2</td>\n",
       "      <td>157</td>\n",
       "      <td>3</td>\n",
       "      <td>0</td>\n",
       "      <td>1</td>\n",
       "      <td>0</td>\n",
       "      <td>sales</td>\n",
       "      <td>low</td>\n",
       "    </tr>\n",
       "    <tr>\n",
       "      <th>1</th>\n",
       "      <td>0.80</td>\n",
       "      <td>0.86</td>\n",
       "      <td>5</td>\n",
       "      <td>262</td>\n",
       "      <td>6</td>\n",
       "      <td>0</td>\n",
       "      <td>1</td>\n",
       "      <td>0</td>\n",
       "      <td>sales</td>\n",
       "      <td>medium</td>\n",
       "    </tr>\n",
       "    <tr>\n",
       "      <th>2</th>\n",
       "      <td>0.11</td>\n",
       "      <td>0.88</td>\n",
       "      <td>7</td>\n",
       "      <td>272</td>\n",
       "      <td>4</td>\n",
       "      <td>0</td>\n",
       "      <td>1</td>\n",
       "      <td>0</td>\n",
       "      <td>sales</td>\n",
       "      <td>medium</td>\n",
       "    </tr>\n",
       "    <tr>\n",
       "      <th>3</th>\n",
       "      <td>0.72</td>\n",
       "      <td>0.87</td>\n",
       "      <td>5</td>\n",
       "      <td>223</td>\n",
       "      <td>5</td>\n",
       "      <td>0</td>\n",
       "      <td>1</td>\n",
       "      <td>0</td>\n",
       "      <td>sales</td>\n",
       "      <td>low</td>\n",
       "    </tr>\n",
       "    <tr>\n",
       "      <th>4</th>\n",
       "      <td>0.37</td>\n",
       "      <td>0.52</td>\n",
       "      <td>2</td>\n",
       "      <td>159</td>\n",
       "      <td>3</td>\n",
       "      <td>0</td>\n",
       "      <td>1</td>\n",
       "      <td>0</td>\n",
       "      <td>sales</td>\n",
       "      <td>low</td>\n",
       "    </tr>\n",
       "  </tbody>\n",
       "</table>\n",
       "</div>"
      ],
      "text/plain": [
       "   satisfaction_level  last_evaluation  number_project  average_montly_hours  \\\n",
       "0                0.38             0.53               2                   157   \n",
       "1                0.80             0.86               5                   262   \n",
       "2                0.11             0.88               7                   272   \n",
       "3                0.72             0.87               5                   223   \n",
       "4                0.37             0.52               2                   159   \n",
       "\n",
       "   time_spend_company  Work_accident  left  promotion_last_5years department  \\\n",
       "0                   3              0     1                      0      sales   \n",
       "1                   6              0     1                      0      sales   \n",
       "2                   4              0     1                      0      sales   \n",
       "3                   5              0     1                      0      sales   \n",
       "4                   3              0     1                      0      sales   \n",
       "\n",
       "   salary  \n",
       "0     low  \n",
       "1  medium  \n",
       "2  medium  \n",
       "3     low  \n",
       "4     low  "
      ]
     },
     "execution_count": 4,
     "metadata": {},
     "output_type": "execute_result"
    }
   ],
   "source": [
    "df = pd.read_csv('HR.csv')\n",
    "df.head()"
   ]
  },
  {
   "cell_type": "code",
   "execution_count": 5,
   "id": "c914e9f8",
   "metadata": {},
   "outputs": [
    {
     "name": "stdout",
     "output_type": "stream",
     "text": [
      "<class 'pandas.core.frame.DataFrame'>\n",
      "RangeIndex: 14999 entries, 0 to 14998\n",
      "Data columns (total 10 columns):\n",
      " #   Column                 Non-Null Count  Dtype  \n",
      "---  ------                 --------------  -----  \n",
      " 0   satisfaction_level     14999 non-null  float64\n",
      " 1   last_evaluation        14999 non-null  float64\n",
      " 2   number_project         14999 non-null  int64  \n",
      " 3   average_montly_hours   14999 non-null  int64  \n",
      " 4   time_spend_company     14999 non-null  int64  \n",
      " 5   Work_accident          14999 non-null  int64  \n",
      " 6   left                   14999 non-null  int64  \n",
      " 7   promotion_last_5years  14999 non-null  int64  \n",
      " 8   department             14999 non-null  object \n",
      " 9   salary                 14999 non-null  object \n",
      "dtypes: float64(2), int64(6), object(2)\n",
      "memory usage: 1.1+ MB\n"
     ]
    }
   ],
   "source": [
    "df.info()"
   ]
  },
  {
   "cell_type": "code",
   "execution_count": 6,
   "id": "141dcf6c",
   "metadata": {},
   "outputs": [
    {
     "data": {
      "text/plain": [
       "satisfaction_level       0.0\n",
       "last_evaluation          0.0\n",
       "number_project           0.0\n",
       "average_montly_hours     0.0\n",
       "time_spend_company       0.0\n",
       "Work_accident            0.0\n",
       "left                     0.0\n",
       "promotion_last_5years    0.0\n",
       "department               0.0\n",
       "salary                   0.0\n",
       "dtype: float64"
      ]
     },
     "execution_count": 6,
     "metadata": {},
     "output_type": "execute_result"
    }
   ],
   "source": [
    "# Недостающие значения для каждого объекта\n",
    "np.round(df.isna().sum()/len(df), 2)"
   ]
  },
  {
   "cell_type": "code",
   "execution_count": null,
   "id": "2068e70f",
   "metadata": {},
   "outputs": [],
   "source": [
    "Вывод. Этот набор данных содержит 8 объясняющих переменных и 1 переменную ответа\n",
    "с информацией о 14 999 сотрудниках. В этом наборе данных нет пропущенных значений."
   ]
  },
  {
   "cell_type": "code",
   "execution_count": null,
   "id": "1c89fa34",
   "metadata": {},
   "outputs": [],
   "source": [
    "Категориальные признаки\n",
    "Несчастный случай на производстве"
   ]
  },
  {
   "cell_type": "code",
   "execution_count": 7,
   "id": "71d3b10a",
   "metadata": {},
   "outputs": [
    {
     "data": {
      "text/html": [
       "<div>\n",
       "<style scoped>\n",
       "    .dataframe tbody tr th:only-of-type {\n",
       "        vertical-align: middle;\n",
       "    }\n",
       "\n",
       "    .dataframe tbody tr th {\n",
       "        vertical-align: top;\n",
       "    }\n",
       "\n",
       "    .dataframe thead th {\n",
       "        text-align: right;\n",
       "    }\n",
       "</style>\n",
       "<table border=\"1\" class=\"dataframe\">\n",
       "  <thead>\n",
       "    <tr style=\"text-align: right;\">\n",
       "      <th>Work_accident</th>\n",
       "      <th>0</th>\n",
       "      <th>1</th>\n",
       "    </tr>\n",
       "  </thead>\n",
       "  <tbody>\n",
       "    <tr>\n",
       "      <th>Did not leave</th>\n",
       "      <td>0.824991</td>\n",
       "      <td>0.175009</td>\n",
       "    </tr>\n",
       "    <tr>\n",
       "      <th>Left</th>\n",
       "      <td>0.952674</td>\n",
       "      <td>0.047326</td>\n",
       "    </tr>\n",
       "  </tbody>\n",
       "</table>\n",
       "</div>"
      ],
      "text/plain": [
       "Work_accident         0         1\n",
       "Did not leave  0.824991  0.175009\n",
       "Left           0.952674  0.047326"
      ]
     },
     "execution_count": 7,
     "metadata": {},
     "output_type": "execute_result"
    }
   ],
   "source": [
    "# Несчастные случаи по сравнению с увольнениями, %\n",
    "outcome_Work_accident = pd.crosstab(index = df['left'],\n",
    "                                    columns = df['Work_accident'], \n",
    "                                    normalize = 'index') # проценты, основанные на индексе\n",
    "\n",
    "outcome_Work_accident.index= ['Did not leave', 'Left']\n",
    "outcome_Work_accident"
   ]
  },
  {
   "cell_type": "code",
   "execution_count": 8,
   "id": "34642d9f",
   "metadata": {},
   "outputs": [
    {
     "data": {
      "image/png": "[encoded data removed]",
      "text/plain": [
       "<Figure size 432x288 with 1 Axes>"
      ]
     },
     "metadata": {
      "needs_background": "light"
     },
     "output_type": "display_data"
    }
   ],
   "source": [
    "outcome_Work_accident.plot(kind = 'bar', stacked = True)\n",
    "\n",
    "plt.title('Work_accident vs. left')\n",
    "plt.xlabel('Outcome')\n",
    "plt.ylabel('Employees')\n",
    "plt.xticks(rotation = 0, horizontalalignment = 'center')\n",
    "\n",
    "plt.show()"
   ]
  },
  {
   "cell_type": "code",
   "execution_count": null,
   "id": "95fc7062",
   "metadata": {},
   "outputs": [],
   "source": [
    "Меньше несчастных случаев среди тех, кто уволился."
   ]
  },
  {
   "cell_type": "code",
   "execution_count": null,
   "id": "8e79dc76",
   "metadata": {},
   "outputs": [],
   "source": [
    "Продвижение по службе за последние 5 лет"
   ]
  },
  {
   "cell_type": "code",
   "execution_count": 9,
   "id": "a49b795f",
   "metadata": {},
   "outputs": [
    {
     "data": {
      "text/html": [
       "<div>\n",
       "<style scoped>\n",
       "    .dataframe tbody tr th:only-of-type {\n",
       "        vertical-align: middle;\n",
       "    }\n",
       "\n",
       "    .dataframe tbody tr th {\n",
       "        vertical-align: top;\n",
       "    }\n",
       "\n",
       "    .dataframe thead th {\n",
       "        text-align: right;\n",
       "    }\n",
       "</style>\n",
       "<table border=\"1\" class=\"dataframe\">\n",
       "  <thead>\n",
       "    <tr style=\"text-align: right;\">\n",
       "      <th>promotion_last_5years</th>\n",
       "      <th>0</th>\n",
       "      <th>1</th>\n",
       "    </tr>\n",
       "  </thead>\n",
       "  <tbody>\n",
       "    <tr>\n",
       "      <th>Did not leave</th>\n",
       "      <td>0.973749</td>\n",
       "      <td>0.026251</td>\n",
       "    </tr>\n",
       "    <tr>\n",
       "      <th>Left</th>\n",
       "      <td>0.994679</td>\n",
       "      <td>0.005321</td>\n",
       "    </tr>\n",
       "  </tbody>\n",
       "</table>\n",
       "</div>"
      ],
      "text/plain": [
       "promotion_last_5years         0         1\n",
       "Did not leave          0.973749  0.026251\n",
       "Left                   0.994679  0.005321"
      ]
     },
     "execution_count": 9,
     "metadata": {},
     "output_type": "execute_result"
    }
   ],
   "source": [
    "# Продвижение по службе за последние 5 лет по сравнению с уволившимися, в %\n",
    "outcome_promotion_last_5years = pd.crosstab(index = df['left'], \n",
    "                           columns = df['promotion_last_5years'], normalize = 'index')\n",
    "\n",
    "outcome_promotion_last_5years.index= ['Did not leave', 'Left']\n",
    "outcome_promotion_last_5years"
   ]
  },
  {
   "cell_type": "code",
   "execution_count": 10,
   "id": "f65d90bc",
   "metadata": {},
   "outputs": [
    {
     "data": {
      "image/png": "[encoded data removed]",
      "text/plain": [
       "<Figure size 432x288 with 1 Axes>"
      ]
     },
     "metadata": {
      "needs_background": "light"
     },
     "output_type": "display_data"
    }
   ],
   "source": [
    "outcome_promotion_last_5years.plot(kind = 'bar', stacked = True)\n",
    "\n",
    "plt.title('promotion_last_5years vs. left')\n",
    "plt.xlabel('Outcome')\n",
    "plt.ylabel('Employees')\n",
    "plt.xticks(rotation = 0, horizontalalignment = 'center')\n",
    "\n",
    "plt.show()"
   ]
  },
  {
   "cell_type": "code",
   "execution_count": null,
   "id": "2b90a067",
   "metadata": {},
   "outputs": [],
   "source": [
    "Почти никакого продвижения по службе среди тех, кто ушел"
   ]
  },
  {
   "cell_type": "code",
   "execution_count": 11,
   "id": "4ea24aa7",
   "metadata": {},
   "outputs": [
    {
     "data": {
      "text/html": [
       "<div>\n",
       "<style scoped>\n",
       "    .dataframe tbody tr th:only-of-type {\n",
       "        vertical-align: middle;\n",
       "    }\n",
       "\n",
       "    .dataframe tbody tr th {\n",
       "        vertical-align: top;\n",
       "    }\n",
       "\n",
       "    .dataframe thead th {\n",
       "        text-align: right;\n",
       "    }\n",
       "</style>\n",
       "<table border=\"1\" class=\"dataframe\">\n",
       "  <thead>\n",
       "    <tr style=\"text-align: right;\">\n",
       "      <th>department</th>\n",
       "      <th>IT</th>\n",
       "      <th>RandD</th>\n",
       "      <th>accounting</th>\n",
       "      <th>hr</th>\n",
       "      <th>management</th>\n",
       "      <th>marketing</th>\n",
       "      <th>product_mng</th>\n",
       "      <th>sales</th>\n",
       "      <th>support</th>\n",
       "      <th>technical</th>\n",
       "    </tr>\n",
       "  </thead>\n",
       "  <tbody>\n",
       "    <tr>\n",
       "      <th>Did not leave</th>\n",
       "      <td>0.083479</td>\n",
       "      <td>0.058278</td>\n",
       "      <td>0.049265</td>\n",
       "      <td>0.045852</td>\n",
       "      <td>0.047165</td>\n",
       "      <td>0.057315</td>\n",
       "      <td>0.061603</td>\n",
       "      <td>0.273539</td>\n",
       "      <td>0.146482</td>\n",
       "      <td>0.177021</td>\n",
       "    </tr>\n",
       "    <tr>\n",
       "      <th>Left</th>\n",
       "      <td>0.076449</td>\n",
       "      <td>0.033884</td>\n",
       "      <td>0.057127</td>\n",
       "      <td>0.060207</td>\n",
       "      <td>0.025483</td>\n",
       "      <td>0.056847</td>\n",
       "      <td>0.055447</td>\n",
       "      <td>0.283954</td>\n",
       "      <td>0.155419</td>\n",
       "      <td>0.195183</td>\n",
       "    </tr>\n",
       "  </tbody>\n",
       "</table>\n",
       "</div>"
      ],
      "text/plain": [
       "department           IT     RandD  accounting        hr  management  \\\n",
       "Did not leave  0.083479  0.058278    0.049265  0.045852    0.047165   \n",
       "Left           0.076449  0.033884    0.057127  0.060207    0.025483   \n",
       "\n",
       "department     marketing  product_mng     sales   support  technical  \n",
       "Did not leave   0.057315     0.061603  0.273539  0.146482   0.177021  \n",
       "Left            0.056847     0.055447  0.283954  0.155419   0.195183  "
      ]
     },
     "execution_count": 11,
     "metadata": {},
     "output_type": "execute_result"
    }
   ],
   "source": [
    "# Отдел(в котором работал служащий) по сравнению с уволившимися, в %\n",
    "outcome_department = pd.crosstab(index = df['left'],\n",
    "                                 columns = df['department'],\n",
    "                                 normalize = 'index')\n",
    "\n",
    "outcome_department.index= ['Did not leave', 'Left']\n",
    "outcome_department"
   ]
  },
  {
   "cell_type": "code",
   "execution_count": 12,
   "id": "7976407b",
   "metadata": {},
   "outputs": [
    {
     "data": {
      "image/png": "[encoded data removed]",
      "text/plain": [
       "<Figure size 432x288 with 1 Axes>"
      ]
     },
     "metadata": {
      "needs_background": "light"
     },
     "output_type": "display_data"
    }
   ],
   "source": [
    "outcome_department.plot.barh(stacked = True)\n",
    "\n",
    "plt.title('department vs. left')\n",
    "plt.xlabel('Employees')\n",
    "plt.ylabel('Outcome')\n",
    "plt.xticks(rotation = 0, horizontalalignment = 'center')\n",
    "plt.show()"
   ]
  },
  {
   "cell_type": "code",
   "execution_count": 13,
   "id": "70cd6d1d",
   "metadata": {},
   "outputs": [
    {
     "data": {
      "text/plain": [
       "sales          4140\n",
       "technical      2720\n",
       "support        2229\n",
       "IT             1227\n",
       "product_mng     902\n",
       "marketing       858\n",
       "RandD           787\n",
       "accounting      767\n",
       "hr              739\n",
       "management      630\n",
       "Name: department, dtype: int64"
      ]
     },
     "execution_count": 13,
     "metadata": {},
     "output_type": "execute_result"
    }
   ],
   "source": [
    "# количество сотрудников в разбивке по отделам\n",
    "df['department'].value_counts()"
   ]
  },
  {
   "cell_type": "code",
   "execution_count": 14,
   "id": "247b9238",
   "metadata": {},
   "outputs": [
    {
     "data": {
      "image/png": "[encoded data removed]",
      "text/plain": [
       "<Figure size 720x360 with 1 Axes>"
      ]
     },
     "metadata": {
      "needs_background": "light"
     },
     "output_type": "display_data"
    }
   ],
   "source": [
    "plt.figure(figsize = (10,5))\n",
    "\n",
    "chart = sns.countplot(data = df, x = 'department')\n",
    "\n",
    "chart.set_xticklabels(\n",
    "    chart.get_xticklabels(), \n",
    "    rotation = 45, \n",
    "    horizontalalignment = 'right',\n",
    "    fontweight = 'light',\n",
    "    fontsize = 'large'\n",
    ")\n",
    "\n",
    "plt.show()"
   ]
  },
  {
   "cell_type": "code",
   "execution_count": null,
   "id": "025df8ec",
   "metadata": {},
   "outputs": [],
   "source": [
    "Большинство людей работают в отделах продаж, технической поддержки и поддержки.\n",
    "В разбивке по отделам довольно схожее распределение среди тех, кто ушел, и тех, кто не ушел."
   ]
  },
  {
   "cell_type": "code",
   "execution_count": 15,
   "id": "b113c88e",
   "metadata": {},
   "outputs": [
    {
     "data": {
      "text/plain": [
       "low       7316\n",
       "medium    6446\n",
       "high      1237\n",
       "Name: salary, dtype: int64"
      ]
     },
     "execution_count": 15,
     "metadata": {},
     "output_type": "execute_result"
    }
   ],
   "source": [
    "# Данные по зарплате (кол-во по уровням)\n",
    "df['salary'].value_counts()"
   ]
  },
  {
   "cell_type": "code",
   "execution_count": 16,
   "id": "637b6a90",
   "metadata": {},
   "outputs": [
    {
     "data": {
      "image/png": "[encoded data removed]",
      "text/plain": [
       "<Figure size 432x288 with 1 Axes>"
      ]
     },
     "metadata": {
      "needs_background": "light"
     },
     "output_type": "display_data"
    }
   ],
   "source": [
    "sns.countplot(x = 'salary',  data = df)\n",
    "plt.show()"
   ]
  },
  {
   "cell_type": "code",
   "execution_count": 17,
   "id": "f7dc815f",
   "metadata": {},
   "outputs": [
    {
     "data": {
      "text/html": [
       "<div>\n",
       "<style scoped>\n",
       "    .dataframe tbody tr th:only-of-type {\n",
       "        vertical-align: middle;\n",
       "    }\n",
       "\n",
       "    .dataframe tbody tr th {\n",
       "        vertical-align: top;\n",
       "    }\n",
       "\n",
       "    .dataframe thead th {\n",
       "        text-align: right;\n",
       "    }\n",
       "</style>\n",
       "<table border=\"1\" class=\"dataframe\">\n",
       "  <thead>\n",
       "    <tr style=\"text-align: right;\">\n",
       "      <th>salary</th>\n",
       "      <th>high</th>\n",
       "      <th>low</th>\n",
       "      <th>medium</th>\n",
       "    </tr>\n",
       "    <tr>\n",
       "      <th>department</th>\n",
       "      <th></th>\n",
       "      <th></th>\n",
       "      <th></th>\n",
       "    </tr>\n",
       "  </thead>\n",
       "  <tbody>\n",
       "    <tr>\n",
       "      <th>IT</th>\n",
       "      <td>0.067645</td>\n",
       "      <td>0.496333</td>\n",
       "      <td>0.436023</td>\n",
       "    </tr>\n",
       "    <tr>\n",
       "      <th>RandD</th>\n",
       "      <td>0.064803</td>\n",
       "      <td>0.462516</td>\n",
       "      <td>0.472681</td>\n",
       "    </tr>\n",
       "    <tr>\n",
       "      <th>accounting</th>\n",
       "      <td>0.096480</td>\n",
       "      <td>0.466754</td>\n",
       "      <td>0.436767</td>\n",
       "    </tr>\n",
       "    <tr>\n",
       "      <th>hr</th>\n",
       "      <td>0.060893</td>\n",
       "      <td>0.453315</td>\n",
       "      <td>0.485792</td>\n",
       "    </tr>\n",
       "    <tr>\n",
       "      <th>management</th>\n",
       "      <td>0.357143</td>\n",
       "      <td>0.285714</td>\n",
       "      <td>0.357143</td>\n",
       "    </tr>\n",
       "    <tr>\n",
       "      <th>marketing</th>\n",
       "      <td>0.093240</td>\n",
       "      <td>0.468531</td>\n",
       "      <td>0.438228</td>\n",
       "    </tr>\n",
       "    <tr>\n",
       "      <th>product_mng</th>\n",
       "      <td>0.075388</td>\n",
       "      <td>0.500000</td>\n",
       "      <td>0.424612</td>\n",
       "    </tr>\n",
       "    <tr>\n",
       "      <th>sales</th>\n",
       "      <td>0.064976</td>\n",
       "      <td>0.507005</td>\n",
       "      <td>0.428019</td>\n",
       "    </tr>\n",
       "    <tr>\n",
       "      <th>support</th>\n",
       "      <td>0.063257</td>\n",
       "      <td>0.514132</td>\n",
       "      <td>0.422611</td>\n",
       "    </tr>\n",
       "    <tr>\n",
       "      <th>technical</th>\n",
       "      <td>0.073897</td>\n",
       "      <td>0.504412</td>\n",
       "      <td>0.421691</td>\n",
       "    </tr>\n",
       "  </tbody>\n",
       "</table>\n",
       "</div>"
      ],
      "text/plain": [
       "salary           high       low    medium\n",
       "department                               \n",
       "IT           0.067645  0.496333  0.436023\n",
       "RandD        0.064803  0.462516  0.472681\n",
       "accounting   0.096480  0.466754  0.436767\n",
       "hr           0.060893  0.453315  0.485792\n",
       "management   0.357143  0.285714  0.357143\n",
       "marketing    0.093240  0.468531  0.438228\n",
       "product_mng  0.075388  0.500000  0.424612\n",
       "sales        0.064976  0.507005  0.428019\n",
       "support      0.063257  0.514132  0.422611\n",
       "technical    0.073897  0.504412  0.421691"
      ]
     },
     "execution_count": 17,
     "metadata": {},
     "output_type": "execute_result"
    }
   ],
   "source": [
    "# Зарплата в зависимости от отдела\n",
    "salary_dept = pd.crosstab(index = df['department'],\n",
    "                          columns = df['salary'],\n",
    "                          normalize='index')\n",
    "\n",
    "salary_dept"
   ]
  },
  {
   "cell_type": "code",
   "execution_count": 18,
   "id": "10cf6b33",
   "metadata": {},
   "outputs": [
    {
     "data": {
      "image/png": "[encoded data removed]",
      "text/plain": [
       "<Figure size 432x288 with 1 Axes>"
      ]
     },
     "metadata": {
      "needs_background": "light"
     },
     "output_type": "display_data"
    }
   ],
   "source": [
    "salary_dept.plot.barh(stacked = True)\n",
    "\n",
    "plt.title('salary vs. department')\n",
    "plt.xlabel('Salary')\n",
    "plt.ylabel('Department')\n",
    "plt.xticks(rotation = 0, horizontalalignment = 'center')\n",
    "\n",
    "plt.show()"
   ]
  },
  {
   "cell_type": "code",
   "execution_count": 19,
   "id": "068a941f",
   "metadata": {},
   "outputs": [
    {
     "data": {
      "text/html": [
       "<div>\n",
       "<style scoped>\n",
       "    .dataframe tbody tr th:only-of-type {\n",
       "        vertical-align: middle;\n",
       "    }\n",
       "\n",
       "    .dataframe tbody tr th {\n",
       "        vertical-align: top;\n",
       "    }\n",
       "\n",
       "    .dataframe thead th {\n",
       "        text-align: right;\n",
       "    }\n",
       "</style>\n",
       "<table border=\"1\" class=\"dataframe\">\n",
       "  <thead>\n",
       "    <tr style=\"text-align: right;\">\n",
       "      <th>salary</th>\n",
       "      <th>high</th>\n",
       "      <th>low</th>\n",
       "      <th>medium</th>\n",
       "    </tr>\n",
       "  </thead>\n",
       "  <tbody>\n",
       "    <tr>\n",
       "      <th>Did not leave</th>\n",
       "      <td>0.101068</td>\n",
       "      <td>0.450123</td>\n",
       "      <td>0.448810</td>\n",
       "    </tr>\n",
       "    <tr>\n",
       "      <th>Left</th>\n",
       "      <td>0.022963</td>\n",
       "      <td>0.608233</td>\n",
       "      <td>0.368804</td>\n",
       "    </tr>\n",
       "  </tbody>\n",
       "</table>\n",
       "</div>"
      ],
      "text/plain": [
       "salary             high       low    medium\n",
       "Did not leave  0.101068  0.450123  0.448810\n",
       "Left           0.022963  0.608233  0.368804"
      ]
     },
     "execution_count": 19,
     "metadata": {},
     "output_type": "execute_result"
    }
   ],
   "source": [
    "# Влияние зарплаты на процент уволившихся\n",
    "outcome_salary = pd.crosstab(index = df['left'],\n",
    "                             columns = df['salary'],\n",
    "                             normalize = 'index')\n",
    "\n",
    "outcome_salary.index= ['Did not leave', 'Left']\n",
    "outcome_salary"
   ]
  },
  {
   "cell_type": "code",
   "execution_count": 20,
   "id": "d8478f28",
   "metadata": {},
   "outputs": [
    {
     "data": {
      "image/png": "[encoded data removed]",
      "text/plain": [
       "<Figure size 432x288 with 1 Axes>"
      ]
     },
     "metadata": {
      "needs_background": "light"
     },
     "output_type": "display_data"
    }
   ],
   "source": [
    "outcome_salary.plot(kind = 'bar', stacked = True)\n",
    "\n",
    "plt.title('salary vs. left')\n",
    "plt.xlabel('Outcome')\n",
    "plt.ylabel('Employees')\n",
    "plt.xticks(rotation = 0, horizontalalignment = 'center')\n",
    "\n",
    "plt.show()"
   ]
  },
  {
   "cell_type": "code",
   "execution_count": null,
   "id": "a25257c9",
   "metadata": {},
   "outputs": [],
   "source": [
    "Сотрудников с низкой и средней зарплатой значительно больше, чем сотрудников с высокой зарплатой.\n",
    "Более или менее равное распределение заработной платы по отделам, за исключением менеджеров, \n",
    "у которых большая доля высоких зарплат. Меньше людей с высокой и средней зарплатой уходят."
   ]
  },
  {
   "cell_type": "code",
   "execution_count": 21,
   "id": "d6629f58",
   "metadata": {},
   "outputs": [
    {
     "data": {
      "text/html": [
       "<div>\n",
       "<style scoped>\n",
       "    .dataframe tbody tr th:only-of-type {\n",
       "        vertical-align: middle;\n",
       "    }\n",
       "\n",
       "    .dataframe tbody tr th {\n",
       "        vertical-align: top;\n",
       "    }\n",
       "\n",
       "    .dataframe thead th {\n",
       "        text-align: right;\n",
       "    }\n",
       "</style>\n",
       "<table border=\"1\" class=\"dataframe\">\n",
       "  <thead>\n",
       "    <tr style=\"text-align: right;\">\n",
       "      <th>time_spend_company</th>\n",
       "      <th>2</th>\n",
       "      <th>3</th>\n",
       "      <th>4</th>\n",
       "      <th>5</th>\n",
       "      <th>6</th>\n",
       "      <th>7</th>\n",
       "      <th>8</th>\n",
       "      <th>10</th>\n",
       "    </tr>\n",
       "  </thead>\n",
       "  <tbody>\n",
       "    <tr>\n",
       "      <th>Did not leave</th>\n",
       "      <td>0.279226</td>\n",
       "      <td>0.425009</td>\n",
       "      <td>0.14587</td>\n",
       "      <td>0.056003</td>\n",
       "      <td>0.044540</td>\n",
       "      <td>0.016451</td>\n",
       "      <td>0.014176</td>\n",
       "      <td>0.018726</td>\n",
       "    </tr>\n",
       "    <tr>\n",
       "      <th>Left</th>\n",
       "      <td>0.014842</td>\n",
       "      <td>0.444133</td>\n",
       "      <td>0.24923</td>\n",
       "      <td>0.233268</td>\n",
       "      <td>0.058527</td>\n",
       "      <td>0.000000</td>\n",
       "      <td>0.000000</td>\n",
       "      <td>0.000000</td>\n",
       "    </tr>\n",
       "  </tbody>\n",
       "</table>\n",
       "</div>"
      ],
      "text/plain": [
       "time_spend_company        2         3        4         5         6         7   \\\n",
       "Did not leave       0.279226  0.425009  0.14587  0.056003  0.044540  0.016451   \n",
       "Left                0.014842  0.444133  0.24923  0.233268  0.058527  0.000000   \n",
       "\n",
       "time_spend_company        8         10  \n",
       "Did not leave       0.014176  0.018726  \n",
       "Left                0.000000  0.000000  "
      ]
     },
     "execution_count": 21,
     "metadata": {},
     "output_type": "execute_result"
    }
   ],
   "source": [
    "# время, проведенное в компании по отношению к уволившимися, в %\n",
    "outcome_time_spend_company = pd.crosstab(index = df['left'],\n",
    "                                         columns = df['time_spend_company'],\n",
    "                                         normalize = 'index')\n",
    "\n",
    "outcome_time_spend_company.index = ['Did not leave', 'Left']\n",
    "outcome_time_spend_company"
   ]
  },
  {
   "cell_type": "code",
   "execution_count": 22,
   "id": "d1b96371",
   "metadata": {},
   "outputs": [
    {
     "data": {
      "image/png": "[encoded data removed]",
      "text/plain": [
       "<Figure size 432x288 with 1 Axes>"
      ]
     },
     "metadata": {
      "needs_background": "light"
     },
     "output_type": "display_data"
    }
   ],
   "source": [
    "outcome_time_spend_company.plot.barh(stacked = True)\n",
    "\n",
    "plt.title('time_spend_company vs. left')\n",
    "plt.xlabel('Time spent, in years')\n",
    "plt.ylabel('Outcome')\n",
    "\n",
    "plt.show()"
   ]
  },
  {
   "cell_type": "code",
   "execution_count": null,
   "id": "0f5b126e",
   "metadata": {},
   "outputs": [],
   "source": [
    "Те, кто работает 2, 7, 8 и 9 лет, почти всегда остаются."
   ]
  },
  {
   "cell_type": "code",
   "execution_count": 23,
   "id": "53822e6e",
   "metadata": {},
   "outputs": [
    {
     "data": {
      "text/plain": [
       "left\n",
       "0    3.786664\n",
       "1    3.855503\n",
       "Name: number_project, dtype: float64"
      ]
     },
     "execution_count": 23,
     "metadata": {},
     "output_type": "execute_result"
    }
   ],
   "source": [
    "# Наличие проектов по отношению к уволившимися, в %\n",
    "proj_left = df.groupby('left').number_project.mean()\n",
    "proj_left"
   ]
  },
  {
   "cell_type": "code",
   "execution_count": 24,
   "id": "a2eed8d4",
   "metadata": {},
   "outputs": [
    {
     "data": {
      "image/png": "[encoded data removed]",
      "text/plain": [
       "<Figure size 432x288 with 1 Axes>"
      ]
     },
     "metadata": {
      "needs_background": "light"
     },
     "output_type": "display_data"
    }
   ],
   "source": [
    "proj_left.plot(kind = 'bar', stacked = True)\n",
    "\n",
    "plt.title('number_project vs. left')\n",
    "plt.xlabel('Left')\n",
    "plt.ylabel('number_project')\n",
    "plt.xticks(rotation = 0, horizontalalignment = 'center')\n",
    "\n",
    "plt.show()"
   ]
  },
  {
   "cell_type": "code",
   "execution_count": null,
   "id": "4817313f",
   "metadata": {},
   "outputs": [],
   "source": [
    "График среднего количества проектов не очень информативен"
   ]
  },
  {
   "cell_type": "code",
   "execution_count": 25,
   "id": "b0e971c0",
   "metadata": {},
   "outputs": [
    {
     "data": {
      "text/html": [
       "<div>\n",
       "<style scoped>\n",
       "    .dataframe tbody tr th:only-of-type {\n",
       "        vertical-align: middle;\n",
       "    }\n",
       "\n",
       "    .dataframe tbody tr th {\n",
       "        vertical-align: top;\n",
       "    }\n",
       "\n",
       "    .dataframe thead th {\n",
       "        text-align: right;\n",
       "    }\n",
       "</style>\n",
       "<table border=\"1\" class=\"dataframe\">\n",
       "  <thead>\n",
       "    <tr style=\"text-align: right;\">\n",
       "      <th>number_project</th>\n",
       "      <th>2</th>\n",
       "      <th>3</th>\n",
       "      <th>4</th>\n",
       "      <th>5</th>\n",
       "      <th>6</th>\n",
       "      <th>7</th>\n",
       "    </tr>\n",
       "  </thead>\n",
       "  <tbody>\n",
       "    <tr>\n",
       "      <th>Did not leave</th>\n",
       "      <td>0.071841</td>\n",
       "      <td>0.348530</td>\n",
       "      <td>0.346167</td>\n",
       "      <td>0.188047</td>\n",
       "      <td>0.045415</td>\n",
       "      <td>0.000000</td>\n",
       "    </tr>\n",
       "    <tr>\n",
       "      <th>Left</th>\n",
       "      <td>0.438813</td>\n",
       "      <td>0.020162</td>\n",
       "      <td>0.114534</td>\n",
       "      <td>0.171381</td>\n",
       "      <td>0.183422</td>\n",
       "      <td>0.071689</td>\n",
       "    </tr>\n",
       "  </tbody>\n",
       "</table>\n",
       "</div>"
      ],
      "text/plain": [
       "number_project         2         3         4         5         6         7\n",
       "Did not leave   0.071841  0.348530  0.346167  0.188047  0.045415  0.000000\n",
       "Left            0.438813  0.020162  0.114534  0.171381  0.183422  0.071689"
      ]
     },
     "execution_count": 25,
     "metadata": {},
     "output_type": "execute_result"
    }
   ],
   "source": [
    "# Количество проектов по отношению к уволившимися, в %\n",
    "outcome_number_project = pd.crosstab(index = df['left'],\n",
    "                                     columns = df['number_project'],\n",
    "                                     normalize='index')\n",
    "\n",
    "outcome_number_project.index = ['Did not leave', 'Left']\n",
    "outcome_number_project"
   ]
  },
  {
   "cell_type": "code",
   "execution_count": 26,
   "id": "2fb3d8b7",
   "metadata": {},
   "outputs": [
    {
     "data": {
      "image/png": "[encoded data removed]",
      "text/plain": [
       "<Figure size 432x288 with 1 Axes>"
      ]
     },
     "metadata": {
      "needs_background": "light"
     },
     "output_type": "display_data"
    }
   ],
   "source": [
    "outcome_number_project.plot.barh(stacked = True)\n",
    "\n",
    "plt.title('number_project vs. left')\n",
    "plt.xlabel('Number of projects')\n",
    "plt.ylabel('Outcome')\n",
    "\n",
    "plt.show()"
   ]
  },
  {
   "cell_type": "code",
   "execution_count": null,
   "id": "2259e072",
   "metadata": {},
   "outputs": [],
   "source": [
    "Сотрудники с 2 проектами уходят чаще\n",
    "Те, у кого есть 3 проекта, почти никогда не уходят\n",
    "Те, у кого 4 проекта, остаются чаще\n",
    "Те, у кого есть 7 проектов, уходят\n",
    "Вывод для категориальных переменных: среди категориальных переменных promotion_last_5 лет,\n",
    "salary, time_spend_company, number_project могут стать хорошими предикторами для модели. \n",
    "Интересно отметить, что люди, у которых было больше несчастных случаев, связанных с работой, \n",
    "как правило, остаются чаще."
   ]
  },
  {
   "cell_type": "code",
   "execution_count": null,
   "id": "c9c3f3d1",
   "metadata": {},
   "outputs": [],
   "source": [
    "Числовые характеристики"
   ]
  },
  {
   "cell_type": "code",
   "execution_count": null,
   "id": "cee4ce60",
   "metadata": {},
   "outputs": [],
   "source": [
    "Суммарная статистика"
   ]
  },
  {
   "cell_type": "code",
   "execution_count": 27,
   "id": "41de6450",
   "metadata": {},
   "outputs": [
    {
     "data": {
      "text/html": [
       "<div>\n",
       "<style scoped>\n",
       "    .dataframe tbody tr th:only-of-type {\n",
       "        vertical-align: middle;\n",
       "    }\n",
       "\n",
       "    .dataframe tbody tr th {\n",
       "        vertical-align: top;\n",
       "    }\n",
       "\n",
       "    .dataframe thead th {\n",
       "        text-align: right;\n",
       "    }\n",
       "</style>\n",
       "<table border=\"1\" class=\"dataframe\">\n",
       "  <thead>\n",
       "    <tr style=\"text-align: right;\">\n",
       "      <th></th>\n",
       "      <th>satisfaction_level</th>\n",
       "      <th>last_evaluation</th>\n",
       "      <th>average_montly_hours</th>\n",
       "    </tr>\n",
       "  </thead>\n",
       "  <tbody>\n",
       "    <tr>\n",
       "      <th>count</th>\n",
       "      <td>14999.000000</td>\n",
       "      <td>14999.000000</td>\n",
       "      <td>14999.000000</td>\n",
       "    </tr>\n",
       "    <tr>\n",
       "      <th>mean</th>\n",
       "      <td>0.612834</td>\n",
       "      <td>0.716102</td>\n",
       "      <td>201.050337</td>\n",
       "    </tr>\n",
       "    <tr>\n",
       "      <th>std</th>\n",
       "      <td>0.248631</td>\n",
       "      <td>0.171169</td>\n",
       "      <td>49.943099</td>\n",
       "    </tr>\n",
       "    <tr>\n",
       "      <th>min</th>\n",
       "      <td>0.090000</td>\n",
       "      <td>0.360000</td>\n",
       "      <td>96.000000</td>\n",
       "    </tr>\n",
       "    <tr>\n",
       "      <th>25%</th>\n",
       "      <td>0.440000</td>\n",
       "      <td>0.560000</td>\n",
       "      <td>156.000000</td>\n",
       "    </tr>\n",
       "    <tr>\n",
       "      <th>50%</th>\n",
       "      <td>0.640000</td>\n",
       "      <td>0.720000</td>\n",
       "      <td>200.000000</td>\n",
       "    </tr>\n",
       "    <tr>\n",
       "      <th>75%</th>\n",
       "      <td>0.820000</td>\n",
       "      <td>0.870000</td>\n",
       "      <td>245.000000</td>\n",
       "    </tr>\n",
       "    <tr>\n",
       "      <th>max</th>\n",
       "      <td>1.000000</td>\n",
       "      <td>1.000000</td>\n",
       "      <td>310.000000</td>\n",
       "    </tr>\n",
       "  </tbody>\n",
       "</table>\n",
       "</div>"
      ],
      "text/plain": [
       "       satisfaction_level  last_evaluation  average_montly_hours\n",
       "count        14999.000000     14999.000000          14999.000000\n",
       "mean             0.612834         0.716102            201.050337\n",
       "std              0.248631         0.171169             49.943099\n",
       "min              0.090000         0.360000             96.000000\n",
       "25%              0.440000         0.560000            156.000000\n",
       "50%              0.640000         0.720000            200.000000\n",
       "75%              0.820000         0.870000            245.000000\n",
       "max              1.000000         1.000000            310.000000"
      ]
     },
     "execution_count": 27,
     "metadata": {},
     "output_type": "execute_result"
    }
   ],
   "source": [
    "df[['satisfaction_level', 'last_evaluation', 'average_montly_hours']].describe()"
   ]
  },
  {
   "cell_type": "code",
   "execution_count": null,
   "id": "9cb2f1cb",
   "metadata": {},
   "outputs": [],
   "source": [
    "Среднее и медианное значения довольно близки. \n",
    "Похоже, что в распределениях нет существенных искажений или выбросов."
   ]
  },
  {
   "cell_type": "code",
   "execution_count": null,
   "id": "2f09d335",
   "metadata": {},
   "outputs": [],
   "source": [
    "Уровень удовлетворенности"
   ]
  },
  {
   "cell_type": "code",
   "execution_count": 28,
   "id": "ce19eed4",
   "metadata": {},
   "outputs": [
    {
     "name": "stderr",
     "output_type": "stream",
     "text": [
      "C:\\Users\\comar\\anaconda3\\lib\\site-packages\\seaborn\\_decorators.py:36: FutureWarning: Pass the following variable as a keyword arg: x. From version 0.12, the only valid positional argument will be `data`, and passing other arguments without an explicit keyword will result in an error or misinterpretation.\n",
      "  warnings.warn(\n",
      "C:\\Users\\comar\\anaconda3\\lib\\site-packages\\seaborn\\distributions.py:2619: FutureWarning: `distplot` is a deprecated function and will be removed in a future version. Please adapt your code to use either `displot` (a figure-level function with similar flexibility) or `histplot` (an axes-level function for histograms).\n",
      "  warnings.warn(msg, FutureWarning)\n"
     ]
    },
    {
     "data": {
      "image/png": "[encoded data removed]",
      "text/plain": [
       "<Figure size 432x288 with 2 Axes>"
      ]
     },
     "metadata": {
      "needs_background": "light"
     },
     "output_type": "display_data"
    }
   ],
   "source": [
    "f, (ax_box, ax_hist) = plt.subplots(2, sharex = True, gridspec_kw = {'height_ratios': (.15, .85)})\n",
    "\n",
    "sns.boxplot(df['satisfaction_level'], ax = ax_box)\n",
    "sns.distplot(df['satisfaction_level'], ax = ax_hist, bins = 10)\n",
    "\n",
    "ax_box.set(xlabel = '')\n",
    "ax_hist.set(xlabel = 'satisfaction_level distribution')\n",
    "ax_hist.set(ylabel = 'frequency')\n",
    "\n",
    "plt.show()"
   ]
  },
  {
   "cell_type": "code",
   "execution_count": null,
   "id": "1a403418",
   "metadata": {},
   "outputs": [],
   "source": [
    "Довольно много недовольных сотрудников."
   ]
  },
  {
   "cell_type": "code",
   "execution_count": 29,
   "id": "bc8ed00a",
   "metadata": {},
   "outputs": [
    {
     "name": "stderr",
     "output_type": "stream",
     "text": [
      "C:\\Users\\comar\\anaconda3\\lib\\site-packages\\seaborn\\_decorators.py:36: FutureWarning: Pass the following variable as a keyword arg: x. From version 0.12, the only valid positional argument will be `data`, and passing other arguments without an explicit keyword will result in an error or misinterpretation.\n",
      "  warnings.warn(\n",
      "C:\\Users\\comar\\anaconda3\\lib\\site-packages\\seaborn\\distributions.py:2619: FutureWarning: `distplot` is a deprecated function and will be removed in a future version. Please adapt your code to use either `displot` (a figure-level function with similar flexibility) or `histplot` (an axes-level function for histograms).\n",
      "  warnings.warn(msg, FutureWarning)\n"
     ]
    },
    {
     "data": {
      "image/png": "[encoded data removed]",
      "text/plain": [
       "<Figure size 432x288 with 2 Axes>"
      ]
     },
     "metadata": {
      "needs_background": "light"
     },
     "output_type": "display_data"
    }
   ],
   "source": [
    "# логарифмирование\n",
    "f, (ax_box, ax_hist) = plt.subplots(2, sharex = True, gridspec_kw = {'height_ratios': (.15, .85)})\n",
    "\n",
    "sns.boxplot(df['satisfaction_level'], ax = ax_box)\n",
    "sns.distplot(df['satisfaction_level'], ax = ax_hist, bins = 10).set_yscale('log')\n",
    "\n",
    "ax_box.set(xlabel = '')\n",
    "ax_hist.set(xlabel = 'satisfaction_level distribution (log)')\n",
    "ax_hist.set(ylabel = 'frequency')\n",
    "\n",
    "plt.show()"
   ]
  },
  {
   "cell_type": "code",
   "execution_count": 30,
   "id": "51266fa9",
   "metadata": {},
   "outputs": [
    {
     "data": {
      "image/png": "[encoded data removed]",
      "text/plain": [
       "<Figure size 432x288 with 1 Axes>"
      ]
     },
     "metadata": {
      "needs_background": "light"
     },
     "output_type": "display_data"
    }
   ],
   "source": [
    "#  преобразование Йео-Джонсона\n",
    "from sklearn.preprocessing import PowerTransformer\n",
    "\n",
    "power = PowerTransformer(method = 'yeo-johnson', standardize = True)\n",
    "sat_trans = power.fit_transform(df[['satisfaction_level']])\n",
    "sat_trans = pd.DataFrame(sat_trans)\n",
    "sat_trans.hist(bins = 20)\n",
    "\n",
    "plt.show()"
   ]
  },
  {
   "cell_type": "code",
   "execution_count": 31,
   "id": "61a07183",
   "metadata": {},
   "outputs": [
    {
     "data": {
      "text/plain": [
       "left\n",
       "0    0.666810\n",
       "1    0.440098\n",
       "Name: satisfaction_level, dtype: float64"
      ]
     },
     "execution_count": 31,
     "metadata": {},
     "output_type": "execute_result"
    }
   ],
   "source": [
    "# Уровень удовлетворенности и процент уволившихся\n",
    "sat_left = df.groupby('left').satisfaction_level.mean()\n",
    "sat_left"
   ]
  },
  {
   "cell_type": "code",
   "execution_count": 32,
   "id": "302b8122",
   "metadata": {},
   "outputs": [
    {
     "data": {
      "image/png": "[encoded data removed]",
      "text/plain": [
       "<Figure size 432x288 with 1 Axes>"
      ]
     },
     "metadata": {
      "needs_background": "light"
     },
     "output_type": "display_data"
    }
   ],
   "source": [
    "sat_left.plot(kind = 'bar', stacked = True)\n",
    "\n",
    "plt.title('satisfaction_level vs. left')\n",
    "plt.xlabel('Left')\n",
    "plt.ylabel('satisfaction_level')\n",
    "plt.xticks(rotation = 0, horizontalalignment = 'center')\n",
    "\n",
    "plt.show()"
   ]
  },
  {
   "cell_type": "code",
   "execution_count": null,
   "id": "9e8a784e",
   "metadata": {},
   "outputs": [],
   "source": [
    "Те, кто ушел, значительно менее удовлетворены."
   ]
  },
  {
   "cell_type": "code",
   "execution_count": 33,
   "id": "b5106e6b",
   "metadata": {},
   "outputs": [
    {
     "data": {
      "text/plain": [
       "department\n",
       "accounting     0.582151\n",
       "hr             0.598809\n",
       "technical      0.607897\n",
       "sales          0.614447\n",
       "IT             0.618142\n",
       "support        0.618300\n",
       "marketing      0.618601\n",
       "product_mng    0.619634\n",
       "RandD          0.619822\n",
       "management     0.621349\n",
       "Name: satisfaction_level, dtype: float64"
      ]
     },
     "execution_count": 33,
     "metadata": {},
     "output_type": "execute_result"
    }
   ],
   "source": [
    "# Уровень удовлетворенности в зависимости от отдела\n",
    "sat_dept = df.groupby('department').satisfaction_level.mean().sort_values()\n",
    "sat_dept"
   ]
  },
  {
   "cell_type": "code",
   "execution_count": 34,
   "id": "7a736c30",
   "metadata": {},
   "outputs": [
    {
     "data": {
      "image/png": "[encoded data removed]",
      "text/plain": [
       "<Figure size 432x288 with 1 Axes>"
      ]
     },
     "metadata": {
      "needs_background": "light"
     },
     "output_type": "display_data"
    }
   ],
   "source": [
    "sat_dept.plot.barh(stacked = True)\n",
    "plt.title('satisfaction_level by department')\n",
    "plt.xlabel('satisfaction_level')\n",
    "plt.ylabel('department')\n",
    "plt.xticks(rotation = 0, horizontalalignment = 'center')\n",
    "plt.xlim(0.55, 0.65)\n",
    "plt.show()"
   ]
  },
  {
   "cell_type": "code",
   "execution_count": null,
   "id": "8b41fca5",
   "metadata": {},
   "outputs": [],
   "source": [
    "Бухгалтеры, отдел кадров и технические специалисты явно менее удовлетворены."
   ]
  },
  {
   "cell_type": "code",
   "execution_count": null,
   "id": "66090a6b",
   "metadata": {},
   "outputs": [],
   "source": [
    "Последняя оценка"
   ]
  },
  {
   "cell_type": "code",
   "execution_count": 35,
   "id": "e4bc611c",
   "metadata": {},
   "outputs": [
    {
     "name": "stderr",
     "output_type": "stream",
     "text": [
      "C:\\Users\\comar\\anaconda3\\lib\\site-packages\\seaborn\\_decorators.py:36: FutureWarning: Pass the following variable as a keyword arg: x. From version 0.12, the only valid positional argument will be `data`, and passing other arguments without an explicit keyword will result in an error or misinterpretation.\n",
      "  warnings.warn(\n",
      "C:\\Users\\comar\\anaconda3\\lib\\site-packages\\seaborn\\distributions.py:2619: FutureWarning: `distplot` is a deprecated function and will be removed in a future version. Please adapt your code to use either `displot` (a figure-level function with similar flexibility) or `histplot` (an axes-level function for histograms).\n",
      "  warnings.warn(msg, FutureWarning)\n"
     ]
    },
    {
     "data": {
      "image/png": "[encoded data removed]",
      "text/plain": [
       "<Figure size 432x288 with 2 Axes>"
      ]
     },
     "metadata": {
      "needs_background": "light"
     },
     "output_type": "display_data"
    }
   ],
   "source": [
    "f, (ax_box, ax_hist) = plt.subplots(2, sharex = True, gridspec_kw = {'height_ratios': (.15, .85)})\n",
    "\n",
    "sns.boxplot(df['last_evaluation'], ax = ax_box)\n",
    "sns.distplot(df['last_evaluation'], ax = ax_hist, bins = 15, kde = False)\n",
    "\n",
    "ax_box.set(xlabel = '')\n",
    "ax_hist.set(xlabel = 'last_evaluation distribution')\n",
    "ax_hist.set(ylabel = 'frequency')\n",
    "\n",
    "plt.show()"
   ]
  },
  {
   "cell_type": "code",
   "execution_count": null,
   "id": "a8ba8647",
   "metadata": {},
   "outputs": [],
   "source": [
    "Бимодальное распределение."
   ]
  },
  {
   "cell_type": "code",
   "execution_count": 36,
   "id": "39b2776b",
   "metadata": {},
   "outputs": [
    {
     "name": "stderr",
     "output_type": "stream",
     "text": [
      "C:\\Users\\comar\\anaconda3\\lib\\site-packages\\seaborn\\_decorators.py:36: FutureWarning: Pass the following variable as a keyword arg: x. From version 0.12, the only valid positional argument will be `data`, and passing other arguments without an explicit keyword will result in an error or misinterpretation.\n",
      "  warnings.warn(\n",
      "C:\\Users\\comar\\anaconda3\\lib\\site-packages\\seaborn\\distributions.py:2619: FutureWarning: `distplot` is a deprecated function and will be removed in a future version. Please adapt your code to use either `displot` (a figure-level function with similar flexibility) or `histplot` (an axes-level function for histograms).\n",
      "  warnings.warn(msg, FutureWarning)\n"
     ]
    },
    {
     "data": {
      "image/png": "[encoded data removed]",
      "text/plain": [
       "<Figure size 432x288 with 2 Axes>"
      ]
     },
     "metadata": {
      "needs_background": "light"
     },
     "output_type": "display_data"
    }
   ],
   "source": [
    "# Логарифмирование\n",
    "f, (ax_box, ax_hist) = plt.subplots(2, sharex = True, gridspec_kw = {'height_ratios': (.15, .85)})\n",
    "\n",
    "sns.boxplot(df['last_evaluation'], ax = ax_box)\n",
    "sns.distplot(df['last_evaluation'], ax = ax_hist, bins = 15).set_yscale('log')\n",
    "\n",
    "ax_box.set(xlabel = '')\n",
    "ax_hist.set(xlabel = 'last_evaluation distribution (log)')\n",
    "ax_hist.set(ylabel = 'frequency')\n",
    "\n",
    "plt.show()"
   ]
  },
  {
   "cell_type": "code",
   "execution_count": 37,
   "id": "59667c26",
   "metadata": {},
   "outputs": [
    {
     "data": {
      "image/png": "[encoded data removed]",
      "text/plain": [
       "<Figure size 432x288 with 1 Axes>"
      ]
     },
     "metadata": {
      "needs_background": "light"
     },
     "output_type": "display_data"
    }
   ],
   "source": [
    "#  преобразование Йео-Джонсона\n",
    "power = PowerTransformer(method = 'yeo-johnson', standardize = True)\n",
    "\n",
    "eval_trans = power.fit_transform(df[['last_evaluation']])\n",
    "eval_trans = pd.DataFrame(eval_trans)\n",
    "eval_trans.hist(bins = 20)\n",
    "\n",
    "plt.show()"
   ]
  },
  {
   "cell_type": "code",
   "execution_count": 38,
   "id": "a54f6173",
   "metadata": {},
   "outputs": [
    {
     "data": {
      "text/plain": [
       "left\n",
       "0    0.715473\n",
       "1    0.718113\n",
       "Name: last_evaluation, dtype: float64"
      ]
     },
     "execution_count": 38,
     "metadata": {},
     "output_type": "execute_result"
    }
   ],
   "source": [
    "# Последний оценочный балл и прцент уволившихся\n",
    "eval_left = df.groupby('left').last_evaluation.mean()\n",
    "eval_left"
   ]
  },
  {
   "cell_type": "code",
   "execution_count": 39,
   "id": "ed96361d",
   "metadata": {},
   "outputs": [
    {
     "data": {
      "image/png": "[encoded data removed]",
      "text/plain": [
       "<Figure size 432x288 with 1 Axes>"
      ]
     },
     "metadata": {
      "needs_background": "light"
     },
     "output_type": "display_data"
    }
   ],
   "source": [
    "eval_left.plot(kind = 'bar', stacked = True)\n",
    "\n",
    "plt.title('last_evaluation  vs. left')\n",
    "plt.xlabel('left')\n",
    "plt.ylabel('last_evaluation')\n",
    "plt.xticks(rotation = 0, horizontalalignment = 'center')\n",
    "plt.ylim(0.7, 0.74)\n",
    "\n",
    "plt.show()"
   ]
  },
  {
   "cell_type": "code",
   "execution_count": null,
   "id": "ef899da4",
   "metadata": {},
   "outputs": [],
   "source": [
    "Разница крайне мала."
   ]
  },
  {
   "cell_type": "code",
   "execution_count": null,
   "id": "8ecd2838",
   "metadata": {},
   "outputs": [],
   "source": [
    "Среднемесячные часы"
   ]
  },
  {
   "cell_type": "code",
   "execution_count": 40,
   "id": "10c51e48",
   "metadata": {},
   "outputs": [
    {
     "name": "stderr",
     "output_type": "stream",
     "text": [
      "C:\\Users\\comar\\anaconda3\\lib\\site-packages\\seaborn\\_decorators.py:36: FutureWarning: Pass the following variable as a keyword arg: x. From version 0.12, the only valid positional argument will be `data`, and passing other arguments without an explicit keyword will result in an error or misinterpretation.\n",
      "  warnings.warn(\n",
      "C:\\Users\\comar\\anaconda3\\lib\\site-packages\\seaborn\\distributions.py:2619: FutureWarning: `distplot` is a deprecated function and will be removed in a future version. Please adapt your code to use either `displot` (a figure-level function with similar flexibility) or `histplot` (an axes-level function for histograms).\n",
      "  warnings.warn(msg, FutureWarning)\n"
     ]
    },
    {
     "data": {
      "image/png": "[encoded data removed]",
      "text/plain": [
       "<Figure size 432x288 with 2 Axes>"
      ]
     },
     "metadata": {
      "needs_background": "light"
     },
     "output_type": "display_data"
    }
   ],
   "source": [
    "f, (ax_box, ax_hist) = plt.subplots(2, sharex = True, gridspec_kw = {'height_ratios': (.15, .85)})\n",
    "\n",
    "sns.boxplot(df['average_montly_hours'], ax = ax_box)\n",
    "sns.distplot(df['average_montly_hours'], ax = ax_hist, bins = 15, kde = False)\n",
    "\n",
    "ax_box.set(xlabel = '')\n",
    "ax_hist.set(xlabel = 'average_montly_hours distribution')\n",
    "ax_hist.set(ylabel = 'frequency')\n",
    "\n",
    "plt.show()"
   ]
  },
  {
   "cell_type": "code",
   "execution_count": null,
   "id": "8c703786",
   "metadata": {},
   "outputs": [],
   "source": [
    "Бимодальное распределение."
   ]
  },
  {
   "cell_type": "code",
   "execution_count": 41,
   "id": "cefa9ee8",
   "metadata": {},
   "outputs": [
    {
     "name": "stderr",
     "output_type": "stream",
     "text": [
      "C:\\Users\\comar\\anaconda3\\lib\\site-packages\\seaborn\\_decorators.py:36: FutureWarning: Pass the following variable as a keyword arg: x. From version 0.12, the only valid positional argument will be `data`, and passing other arguments without an explicit keyword will result in an error or misinterpretation.\n",
      "  warnings.warn(\n",
      "C:\\Users\\comar\\anaconda3\\lib\\site-packages\\seaborn\\distributions.py:2619: FutureWarning: `distplot` is a deprecated function and will be removed in a future version. Please adapt your code to use either `displot` (a figure-level function with similar flexibility) or `histplot` (an axes-level function for histograms).\n",
      "  warnings.warn(msg, FutureWarning)\n"
     ]
    },
    {
     "data": {
      "image/png": "[encoded data removed]",
      "text/plain": [
       "<Figure size 432x288 with 2 Axes>"
      ]
     },
     "metadata": {
      "needs_background": "light"
     },
     "output_type": "display_data"
    }
   ],
   "source": [
    "# Логарифмирование\n",
    "f, (ax_box, ax_hist) = plt.subplots(2, sharex = True, gridspec_kw = {'height_ratios': (.15, .85)})\n",
    "\n",
    "sns.boxplot(df['average_montly_hours'], ax = ax_box)\n",
    "sns.distplot(df['average_montly_hours'], ax = ax_hist, bins = 15).set_yscale('log')\n",
    "\n",
    "ax_box.set(xlabel = '')\n",
    "ax_hist.set(xlabel = 'average_montly_hours distribution (log)')\n",
    "ax_hist.set(ylabel = 'frequency')\n",
    "\n",
    "plt.show()"
   ]
  },
  {
   "cell_type": "code",
   "execution_count": 42,
   "id": "7f7f2335",
   "metadata": {},
   "outputs": [
    {
     "data": {
      "image/png": "[encoded data removed]",
      "text/plain": [
       "<Figure size 432x288 with 1 Axes>"
      ]
     },
     "metadata": {
      "needs_background": "light"
     },
     "output_type": "display_data"
    }
   ],
   "source": [
    "# преобразование Йео-Джонсона\n",
    "power = PowerTransformer(method = 'yeo-johnson', standardize = True)\n",
    "\n",
    "hours_trans = power.fit_transform(df[['average_montly_hours']])\n",
    "hours_trans = pd.DataFrame(hours_trans)\n",
    "hours_trans.hist(bins = 20)\n",
    "\n",
    "plt.show()"
   ]
  },
  {
   "cell_type": "code",
   "execution_count": 43,
   "id": "90d6ddbd",
   "metadata": {},
   "outputs": [
    {
     "data": {
      "text/plain": [
       "left\n",
       "0    199.060203\n",
       "1    207.419210\n",
       "Name: average_montly_hours, dtype: float64"
      ]
     },
     "execution_count": 43,
     "metadata": {},
     "output_type": "execute_result"
    }
   ],
   "source": [
    "# среднемесячные часы и процент уволившихся\n",
    "hours_left = df.groupby('left').average_montly_hours.mean()\n",
    "hours_left"
   ]
  },
  {
   "cell_type": "code",
   "execution_count": 44,
   "id": "27c8d98b",
   "metadata": {},
   "outputs": [
    {
     "data": {
      "image/png": "[encoded data removed]",
      "text/plain": [
       "<Figure size 432x288 with 1 Axes>"
      ]
     },
     "metadata": {
      "needs_background": "light"
     },
     "output_type": "display_data"
    }
   ],
   "source": [
    "hours_left.plot(kind = 'bar', stacked = True)\n",
    "\n",
    "plt.title('average_montly_hours vs. left')\n",
    "plt.xlabel('left')\n",
    "plt.ylabel('average_montly_hours')\n",
    "plt.xticks(rotation = 0, horizontalalignment = 'center')\n",
    "plt.ylim(150, 220)\n",
    "\n",
    "plt.show()"
   ]
  },
  {
   "cell_type": "code",
   "execution_count": null,
   "id": "c6bc4cdc",
   "metadata": {},
   "outputs": [],
   "source": [
    "Вывод для числовых переменных:. Числовые переменные требуют логарифмического преобразования\n",
    "для лучшего прогнозирования. Трансформация Йео-Джонсона не показала хороших результатов.\n",
    "вероятно, в модели можно использовать satisfaction_level и average_monthly_hours."
   ]
  },
  {
   "cell_type": "code",
   "execution_count": null,
   "id": "f44cb74f",
   "metadata": {},
   "outputs": [],
   "source": [
    "Выбросы"
   ]
  },
  {
   "cell_type": "code",
   "execution_count": 45,
   "id": "49628e2e",
   "metadata": {},
   "outputs": [
    {
     "name": "stdout",
     "output_type": "stream",
     "text": [
      "-0.12999999999999995 1.39\n"
     ]
    },
    {
     "data": {
      "text/html": [
       "<div>\n",
       "<style scoped>\n",
       "    .dataframe tbody tr th:only-of-type {\n",
       "        vertical-align: middle;\n",
       "    }\n",
       "\n",
       "    .dataframe tbody tr th {\n",
       "        vertical-align: top;\n",
       "    }\n",
       "\n",
       "    .dataframe thead th {\n",
       "        text-align: right;\n",
       "    }\n",
       "</style>\n",
       "<table border=\"1\" class=\"dataframe\">\n",
       "  <thead>\n",
       "    <tr style=\"text-align: right;\">\n",
       "      <th></th>\n",
       "      <th>satisfaction_level</th>\n",
       "      <th>last_evaluation</th>\n",
       "      <th>number_project</th>\n",
       "      <th>average_montly_hours</th>\n",
       "      <th>time_spend_company</th>\n",
       "      <th>Work_accident</th>\n",
       "      <th>left</th>\n",
       "      <th>promotion_last_5years</th>\n",
       "      <th>department</th>\n",
       "      <th>salary</th>\n",
       "    </tr>\n",
       "  </thead>\n",
       "  <tbody>\n",
       "  </tbody>\n",
       "</table>\n",
       "</div>"
      ],
      "text/plain": [
       "Empty DataFrame\n",
       "Columns: [satisfaction_level, last_evaluation, number_project, average_montly_hours, time_spend_company, Work_accident, left, promotion_last_5years, department, salary]\n",
       "Index: []"
      ]
     },
     "execution_count": 45,
     "metadata": {},
     "output_type": "execute_result"
    }
   ],
   "source": [
    "# выбросы уровня удовлетворенности\n",
    "q1 = df.satisfaction_level.quantile(0.25)\n",
    "q3 = df.satisfaction_level.quantile(0.75)\n",
    "iqr = q3 - q1\n",
    "lower_bound = q1 - (1.5 * iqr) \n",
    "upper_bound = q3 + (1.5 * iqr)\n",
    "print(lower_bound, upper_bound)\n",
    "\n",
    "outliers_sat = df[(df.satisfaction_level < lower_bound) | (df.satisfaction_level > upper_bound)]\n",
    "outliers_sat.head()"
   ]
  },
  {
   "cell_type": "code",
   "execution_count": null,
   "id": "85064690",
   "metadata": {},
   "outputs": [],
   "source": [
    "Выбросов нет, поскольку границы превышают минимальные и максимальные значения."
   ]
  },
  {
   "cell_type": "code",
   "execution_count": 46,
   "id": "0be135e4",
   "metadata": {},
   "outputs": [
    {
     "name": "stdout",
     "output_type": "stream",
     "text": [
      "0.09500000000000014 1.335\n"
     ]
    },
    {
     "data": {
      "text/html": [
       "<div>\n",
       "<style scoped>\n",
       "    .dataframe tbody tr th:only-of-type {\n",
       "        vertical-align: middle;\n",
       "    }\n",
       "\n",
       "    .dataframe tbody tr th {\n",
       "        vertical-align: top;\n",
       "    }\n",
       "\n",
       "    .dataframe thead th {\n",
       "        text-align: right;\n",
       "    }\n",
       "</style>\n",
       "<table border=\"1\" class=\"dataframe\">\n",
       "  <thead>\n",
       "    <tr style=\"text-align: right;\">\n",
       "      <th></th>\n",
       "      <th>satisfaction_level</th>\n",
       "      <th>last_evaluation</th>\n",
       "      <th>number_project</th>\n",
       "      <th>average_montly_hours</th>\n",
       "      <th>time_spend_company</th>\n",
       "      <th>Work_accident</th>\n",
       "      <th>left</th>\n",
       "      <th>promotion_last_5years</th>\n",
       "      <th>department</th>\n",
       "      <th>salary</th>\n",
       "    </tr>\n",
       "  </thead>\n",
       "  <tbody>\n",
       "  </tbody>\n",
       "</table>\n",
       "</div>"
      ],
      "text/plain": [
       "Empty DataFrame\n",
       "Columns: [satisfaction_level, last_evaluation, number_project, average_montly_hours, time_spend_company, Work_accident, left, promotion_last_5years, department, salary]\n",
       "Index: []"
      ]
     },
     "execution_count": 46,
     "metadata": {},
     "output_type": "execute_result"
    }
   ],
   "source": [
    "# Выбросы последнего оценочного балла\n",
    "q1 = df.last_evaluation.quantile(0.25)\n",
    "q3 = df.last_evaluation.quantile(0.75)\n",
    "iqr = q3 - q1\n",
    "lower_bound = q1 - (1.5 * iqr) \n",
    "upper_bound = q3 + (1.5 * iqr)\n",
    "print(lower_bound, upper_bound)\n",
    "\n",
    "eval = df[(df.last_evaluation < lower_bound) | (df.last_evaluation > upper_bound)]\n",
    "eval.head()"
   ]
  },
  {
   "cell_type": "code",
   "execution_count": null,
   "id": "9eae3745",
   "metadata": {},
   "outputs": [],
   "source": [
    "Выбросов нет, поскольку границы превышают минимальные и максимальные значения."
   ]
  },
  {
   "cell_type": "code",
   "execution_count": 47,
   "id": "36beb3e9",
   "metadata": {},
   "outputs": [
    {
     "name": "stdout",
     "output_type": "stream",
     "text": [
      "22.5 378.5\n"
     ]
    },
    {
     "data": {
      "text/html": [
       "<div>\n",
       "<style scoped>\n",
       "    .dataframe tbody tr th:only-of-type {\n",
       "        vertical-align: middle;\n",
       "    }\n",
       "\n",
       "    .dataframe tbody tr th {\n",
       "        vertical-align: top;\n",
       "    }\n",
       "\n",
       "    .dataframe thead th {\n",
       "        text-align: right;\n",
       "    }\n",
       "</style>\n",
       "<table border=\"1\" class=\"dataframe\">\n",
       "  <thead>\n",
       "    <tr style=\"text-align: right;\">\n",
       "      <th></th>\n",
       "      <th>satisfaction_level</th>\n",
       "      <th>last_evaluation</th>\n",
       "      <th>number_project</th>\n",
       "      <th>average_montly_hours</th>\n",
       "      <th>time_spend_company</th>\n",
       "      <th>Work_accident</th>\n",
       "      <th>left</th>\n",
       "      <th>promotion_last_5years</th>\n",
       "      <th>department</th>\n",
       "      <th>salary</th>\n",
       "    </tr>\n",
       "  </thead>\n",
       "  <tbody>\n",
       "  </tbody>\n",
       "</table>\n",
       "</div>"
      ],
      "text/plain": [
       "Empty DataFrame\n",
       "Columns: [satisfaction_level, last_evaluation, number_project, average_montly_hours, time_spend_company, Work_accident, left, promotion_last_5years, department, salary]\n",
       "Index: []"
      ]
     },
     "execution_count": 47,
     "metadata": {},
     "output_type": "execute_result"
    }
   ],
   "source": [
    "# Выбросы по среднемесячным часам\n",
    "q1 = df.average_montly_hours.quantile(0.25)\n",
    "q3 = df.average_montly_hours.quantile(0.75)\n",
    "iqr = q3 - q1\n",
    "lower_bound = q1 - (1.5 * iqr) \n",
    "upper_bound = q3 + (1.5 * iqr)\n",
    "print(lower_bound, upper_bound)\n",
    "\n",
    "hours = df[(df.average_montly_hours < lower_bound) | (df.average_montly_hours > upper_bound)]\n",
    "hours.head()"
   ]
  },
  {
   "cell_type": "code",
   "execution_count": null,
   "id": "0295dfc9",
   "metadata": {},
   "outputs": [],
   "source": [
    "Выбросов нет, поскольку границы превышают минимальные и максимальные значения."
   ]
  },
  {
   "cell_type": "code",
   "execution_count": null,
   "id": "c81684cb",
   "metadata": {},
   "outputs": [],
   "source": [
    "Исследование данных"
   ]
  },
  {
   "cell_type": "code",
   "execution_count": null,
   "id": "5192af8a",
   "metadata": {},
   "outputs": [],
   "source": [
    "Гипотеза 1\n",
    "Мы проверим гипотезу о том, что люди с высокой зарплатой имеют более высокую среднюю\n",
    "заработную плату за месяц."
   ]
  },
  {
   "cell_type": "code",
   "execution_count": 48,
   "id": "0d8c4751",
   "metadata": {},
   "outputs": [
    {
     "data": {
      "text/plain": [
       "salary\n",
       "high      199.867421\n",
       "low       200.996583\n",
       "medium    201.338349\n",
       "Name: average_montly_hours, dtype: float64"
      ]
     },
     "execution_count": 48,
     "metadata": {},
     "output_type": "execute_result"
    }
   ],
   "source": [
    "# Среднечасовая месячная загрузка и зарплата\n",
    "sal_hours = df.groupby('salary').average_montly_hours.mean().sort_values()\n",
    "sal_hours"
   ]
  },
  {
   "cell_type": "code",
   "execution_count": 49,
   "id": "26dbada3",
   "metadata": {},
   "outputs": [
    {
     "data": {
      "image/png": "[encoded data removed]",
      "text/plain": [
       "<Figure size 432x288 with 1 Axes>"
      ]
     },
     "metadata": {
      "needs_background": "light"
     },
     "output_type": "display_data"
    }
   ],
   "source": [
    "sal_hours.plot.barh(stacked = True)\n",
    "\n",
    "plt.title('average_montly_hours by salary')\n",
    "plt.xlabel('average_montly_hours')\n",
    "plt.ylabel('salary')\n",
    "plt.xticks(rotation = 0, horizontalalignment = 'center')\n",
    "plt.xlim(190, 208)\n",
    "\n",
    "plt.show()"
   ]
  },
  {
   "cell_type": "code",
   "execution_count": null,
   "id": "3c708629",
   "metadata": {},
   "outputs": [],
   "source": [
    "На самом деле те, у кого средняя зарплата, по-видимому, работают немного дольше, \n",
    "хотя разница довольно мала. Мы можем проверить, есть ли статистически значимая разница\n",
    "с помощью ANOVA."
   ]
  },
  {
   "cell_type": "code",
   "execution_count": 50,
   "id": "25999aeb",
   "metadata": {},
   "outputs": [],
   "source": [
    "# разделение данных на три выборки\n",
    "low = df[df['salary'] == 'low']\n",
    "low = low[['average_montly_hours']]\n",
    "\n",
    "medium = df[df['salary'] == 'medium']\n",
    "medium = medium[['average_montly_hours']]\n",
    "\n",
    "high = df[df['salary'] == 'high']\n",
    "high = high[['average_montly_hours']]"
   ]
  },
  {
   "cell_type": "code",
   "execution_count": 51,
   "id": "ddd7e76e",
   "metadata": {},
   "outputs": [
    {
     "name": "stdout",
     "output_type": "stream",
     "text": [
      "7316 6446 1237\n"
     ]
    }
   ],
   "source": [
    "# размер каждого образца\n",
    "print(len(low), len(medium), len(high))"
   ]
  },
  {
   "cell_type": "code",
   "execution_count": 52,
   "id": "882c3f18",
   "metadata": {},
   "outputs": [
    {
     "data": {
      "text/plain": [
       "F_onewayResult(statistic=array([0.45836244]), pvalue=array([0.63232712]))"
      ]
     },
     "execution_count": 52,
     "metadata": {},
     "output_type": "execute_result"
    }
   ],
   "source": [
    "from scipy.stats import f_oneway\n",
    "f_oneway(low, medium, high)"
   ]
  },
  {
   "cell_type": "code",
   "execution_count": null,
   "id": "e3e134d6",
   "metadata": {},
   "outputs": [],
   "source": [
    "Размер выборок довольно значителен, поэтому мы ожидаем, что тест обнаружит даже небольшие различия\n",
    "Тем не менее, значение p по-прежнему превышает 0,05, и, таким образом, ANOVA показывает,\n",
    "что нет существенной разницы между average_montly_hours с точки зрения заработной платы."
   ]
  },
  {
   "cell_type": "code",
   "execution_count": null,
   "id": "11b5ca59",
   "metadata": {},
   "outputs": [],
   "source": [
    "МОДЕЛИРОВАНИЕ"
   ]
  },
  {
   "cell_type": "code",
   "execution_count": null,
   "id": "f262d0cf",
   "metadata": {},
   "outputs": [],
   "source": [
    "Преобразование данных:"
   ]
  },
  {
   "cell_type": "code",
   "execution_count": 53,
   "id": "38995ef7",
   "metadata": {},
   "outputs": [],
   "source": [
    "# основное предположение для LDA состоит в том, что числовые переменные должны быть нормальными\n",
    "\n",
    "# логарифмическое преобразование числовых переменных\n",
    "df['sat_level_log'] = np.log(df['satisfaction_level'])\n",
    "df['last_eval_log'] = np.log(df['last_evaluation'])\n",
    "df['av_hours_log'] = np.log(df['average_montly_hours'])\n",
    "\n",
    "# изменение порядка столбцов\n",
    "columnsTitles = ['satisfaction_level', 'sat_level_log', 'last_evaluation', 'last_eval_log', 'number_project', 'average_montly_hours', 'av_hours_log', 'time_spend_company', 'Work_accident', 'promotion_last_5years', 'department', 'salary', 'left']\n",
    "df = df.reindex(columns = columnsTitles)"
   ]
  },
  {
   "cell_type": "code",
   "execution_count": 54,
   "id": "dabdf89e",
   "metadata": {},
   "outputs": [],
   "source": [
    "# преобразование категории 'salary' в тип 'int'\n",
    "from sklearn.preprocessing import LabelEncoder\n",
    "\n",
    "labelencoder = LabelEncoder()\n",
    "df['salary'] = labelencoder.fit_transform(df['salary'])"
   ]
  },
  {
   "cell_type": "code",
   "execution_count": 55,
   "id": "cef090ed",
   "metadata": {},
   "outputs": [],
   "source": [
    "# преобразование категории 'deparment' в тип 'int'\n",
    "labelencoder = LabelEncoder()\n",
    "df['department'] = labelencoder.fit_transform(df['department'])"
   ]
  },
  {
   "cell_type": "code",
   "execution_count": 56,
   "id": "68e256e7",
   "metadata": {},
   "outputs": [
    {
     "data": {
      "text/html": [
       "<div>\n",
       "<style scoped>\n",
       "    .dataframe tbody tr th:only-of-type {\n",
       "        vertical-align: middle;\n",
       "    }\n",
       "\n",
       "    .dataframe tbody tr th {\n",
       "        vertical-align: top;\n",
       "    }\n",
       "\n",
       "    .dataframe thead th {\n",
       "        text-align: right;\n",
       "    }\n",
       "</style>\n",
       "<table border=\"1\" class=\"dataframe\">\n",
       "  <thead>\n",
       "    <tr style=\"text-align: right;\">\n",
       "      <th></th>\n",
       "      <th>satisfaction_level</th>\n",
       "      <th>sat_level_log</th>\n",
       "      <th>last_evaluation</th>\n",
       "      <th>last_eval_log</th>\n",
       "      <th>number_project</th>\n",
       "      <th>average_montly_hours</th>\n",
       "      <th>av_hours_log</th>\n",
       "      <th>time_spend_company</th>\n",
       "      <th>Work_accident</th>\n",
       "      <th>promotion_last_5years</th>\n",
       "      <th>department</th>\n",
       "      <th>salary</th>\n",
       "      <th>left</th>\n",
       "    </tr>\n",
       "  </thead>\n",
       "  <tbody>\n",
       "    <tr>\n",
       "      <th>0</th>\n",
       "      <td>0.38</td>\n",
       "      <td>-0.967584</td>\n",
       "      <td>0.53</td>\n",
       "      <td>-0.634878</td>\n",
       "      <td>2</td>\n",
       "      <td>157</td>\n",
       "      <td>5.056246</td>\n",
       "      <td>3</td>\n",
       "      <td>0</td>\n",
       "      <td>0</td>\n",
       "      <td>7</td>\n",
       "      <td>1</td>\n",
       "      <td>1</td>\n",
       "    </tr>\n",
       "    <tr>\n",
       "      <th>1</th>\n",
       "      <td>0.80</td>\n",
       "      <td>-0.223144</td>\n",
       "      <td>0.86</td>\n",
       "      <td>-0.150823</td>\n",
       "      <td>5</td>\n",
       "      <td>262</td>\n",
       "      <td>5.568345</td>\n",
       "      <td>6</td>\n",
       "      <td>0</td>\n",
       "      <td>0</td>\n",
       "      <td>7</td>\n",
       "      <td>2</td>\n",
       "      <td>1</td>\n",
       "    </tr>\n",
       "    <tr>\n",
       "      <th>2</th>\n",
       "      <td>0.11</td>\n",
       "      <td>-2.207275</td>\n",
       "      <td>0.88</td>\n",
       "      <td>-0.127833</td>\n",
       "      <td>7</td>\n",
       "      <td>272</td>\n",
       "      <td>5.605802</td>\n",
       "      <td>4</td>\n",
       "      <td>0</td>\n",
       "      <td>0</td>\n",
       "      <td>7</td>\n",
       "      <td>2</td>\n",
       "      <td>1</td>\n",
       "    </tr>\n",
       "    <tr>\n",
       "      <th>3</th>\n",
       "      <td>0.72</td>\n",
       "      <td>-0.328504</td>\n",
       "      <td>0.87</td>\n",
       "      <td>-0.139262</td>\n",
       "      <td>5</td>\n",
       "      <td>223</td>\n",
       "      <td>5.407172</td>\n",
       "      <td>5</td>\n",
       "      <td>0</td>\n",
       "      <td>0</td>\n",
       "      <td>7</td>\n",
       "      <td>1</td>\n",
       "      <td>1</td>\n",
       "    </tr>\n",
       "    <tr>\n",
       "      <th>4</th>\n",
       "      <td>0.37</td>\n",
       "      <td>-0.994252</td>\n",
       "      <td>0.52</td>\n",
       "      <td>-0.653926</td>\n",
       "      <td>2</td>\n",
       "      <td>159</td>\n",
       "      <td>5.068904</td>\n",
       "      <td>3</td>\n",
       "      <td>0</td>\n",
       "      <td>0</td>\n",
       "      <td>7</td>\n",
       "      <td>1</td>\n",
       "      <td>1</td>\n",
       "    </tr>\n",
       "  </tbody>\n",
       "</table>\n",
       "</div>"
      ],
      "text/plain": [
       "   satisfaction_level  sat_level_log  last_evaluation  last_eval_log  \\\n",
       "0                0.38      -0.967584             0.53      -0.634878   \n",
       "1                0.80      -0.223144             0.86      -0.150823   \n",
       "2                0.11      -2.207275             0.88      -0.127833   \n",
       "3                0.72      -0.328504             0.87      -0.139262   \n",
       "4                0.37      -0.994252             0.52      -0.653926   \n",
       "\n",
       "   number_project  average_montly_hours  av_hours_log  time_spend_company  \\\n",
       "0               2                   157      5.056246                   3   \n",
       "1               5                   262      5.568345                   6   \n",
       "2               7                   272      5.605802                   4   \n",
       "3               5                   223      5.407172                   5   \n",
       "4               2                   159      5.068904                   3   \n",
       "\n",
       "   Work_accident  promotion_last_5years  department  salary  left  \n",
       "0              0                      0           7       1     1  \n",
       "1              0                      0           7       2     1  \n",
       "2              0                      0           7       2     1  \n",
       "3              0                      0           7       1     1  \n",
       "4              0                      0           7       1     1  "
      ]
     },
     "execution_count": 56,
     "metadata": {},
     "output_type": "execute_result"
    }
   ],
   "source": [
    "df.head()"
   ]
  },
  {
   "cell_type": "code",
   "execution_count": null,
   "id": "daaf077b",
   "metadata": {},
   "outputs": [],
   "source": [
    "Корреляционный анализ"
   ]
  },
  {
   "cell_type": "code",
   "execution_count": null,
   "id": "9b9aa242",
   "metadata": {},
   "outputs": [],
   "source": [
    "Для корреляционного анализа будет использоваться метод корреляции Кендалла."
   ]
  },
  {
   "cell_type": "code",
   "execution_count": 57,
   "id": "fcc34980",
   "metadata": {},
   "outputs": [],
   "source": [
    "df_c = df[\n",
    "    ['satisfaction_level', \n",
    "    'sat_level_log',\n",
    "    'last_evaluation',\n",
    "    'last_eval_log',\n",
    "    'number_project', \n",
    "    'average_montly_hours',\n",
    "    'av_hours_log',\n",
    "    'time_spend_company',\n",
    "    'Work_accident',\n",
    "    'promotion_last_5years',\n",
    "    'salary'\n",
    "    ]\n",
    "  ]"
   ]
  },
  {
   "cell_type": "code",
   "execution_count": null,
   "id": "52084c64",
   "metadata": {},
   "outputs": [],
   "source": [
    "# df_c.corr()"
   ]
  },
  {
   "cell_type": "code",
   "execution_count": 58,
   "id": "df322b77",
   "metadata": {},
   "outputs": [
    {
     "data": {
      "image/png": "[encoded data removed]",
      "text/plain": [
       "<Figure size 864x720 with 2 Axes>"
      ]
     },
     "metadata": {
      "needs_background": "light"
     },
     "output_type": "display_data"
    }
   ],
   "source": [
    "# Корреляционная матрица Кендалла\n",
    "plt.figure(figsize = (12,10))\n",
    "\n",
    "cor = df_c.corr(method = 'kendall')\n",
    "\n",
    "ax = sns.heatmap(cor, \n",
    "                 annot = True, \n",
    "                 vmin = -1, \n",
    "                 vmax = 1, \n",
    "                 center = 0, \n",
    "                 cmap = plt.cm.Reds) # cmap = sns.diverging_palette(20, 220, n = 200)\n",
    "\n",
    "ax.set_xticklabels(ax.get_xticklabels(),\n",
    "                   rotation = 45,\n",
    "                   horizontalalignment = 'right')\n",
    "\n",
    "plt.show()"
   ]
  },
  {
   "cell_type": "code",
   "execution_count": 59,
   "id": "573d0968",
   "metadata": {},
   "outputs": [],
   "source": [
    "# наибольшая и наименьшая корреляция\n",
    "c = df_c.corr(method = 'kendall').abs()\n",
    "s = c.unstack()\n",
    "so = s.sort_values(kind = 'quicksort')"
   ]
  },
  {
   "cell_type": "code",
   "execution_count": 60,
   "id": "de060a09",
   "metadata": {},
   "outputs": [
    {
     "name": "stdout",
     "output_type": "stream",
     "text": [
      "last_evaluation       number_project          0.266267\n",
      "number_project        av_hours_log            0.306987\n",
      "av_hours_log          number_project          0.306987\n",
      "number_project        average_montly_hours    0.306987\n",
      "average_montly_hours  number_project          0.306987\n",
      "dtype: float64\n"
     ]
    }
   ],
   "source": [
    "print(so[-22:-17])"
   ]
  },
  {
   "cell_type": "code",
   "execution_count": null,
   "id": "dd0e2be9",
   "metadata": {},
   "outputs": [],
   "source": [
    "Две самые высокие корреляции включают number_project и average_monthly_hours,\n",
    "а также number_project и last_evaluation. Тем не менее, корреляция является низкой положительной."
   ]
  },
  {
   "cell_type": "code",
   "execution_count": 61,
   "id": "c3513eee",
   "metadata": {},
   "outputs": [
    {
     "name": "stdout",
     "output_type": "stream",
     "text": [
      "salary          Work_accident     0.001077\n",
      "Work_accident   salary            0.001077\n",
      "number_project  Work_accident     0.002096\n",
      "Work_accident   number_project    0.002096\n",
      "dtype: float64\n"
     ]
    }
   ],
   "source": [
    "print(so[:4])"
   ]
  },
  {
   "cell_type": "code",
   "execution_count": null,
   "id": "9315342b",
   "metadata": {},
   "outputs": [],
   "source": [
    "Две самые низкие корреляции включают зарплату и инциденты на рабочем месте,\n",
    "а также номер проекта и инциденты на рабочем месте."
   ]
  },
  {
   "cell_type": "code",
   "execution_count": null,
   "id": "0391f87d",
   "metadata": {},
   "outputs": [],
   "source": [
    "Мультиколлинеарный анализ"
   ]
  },
  {
   "cell_type": "code",
   "execution_count": 62,
   "id": "f13a8d06",
   "metadata": {},
   "outputs": [],
   "source": [
    "import warnings\n",
    "warnings.filterwarnings('ignore')\n",
    "\n",
    "# Получение переменных, для которых вычисляется VIF, и добавление термина перехвата\n",
    "X = df[\n",
    "    ['satisfaction_level',\n",
    "    'last_eval_log',\n",
    "    'number_project', \n",
    "    'average_montly_hours',\n",
    "    'time_spend_company',\n",
    "    'Work_accident',\n",
    "    'promotion_last_5years'\n",
    "    ]\n",
    "  ]\n",
    "\n",
    "X['Intercept'] = 1"
   ]
  },
  {
   "cell_type": "code",
   "execution_count": 63,
   "id": "23f2bf60",
   "metadata": {},
   "outputs": [
    {
     "data": {
      "text/html": [
       "<div>\n",
       "<style scoped>\n",
       "    .dataframe tbody tr th:only-of-type {\n",
       "        vertical-align: middle;\n",
       "    }\n",
       "\n",
       "    .dataframe tbody tr th {\n",
       "        vertical-align: top;\n",
       "    }\n",
       "\n",
       "    .dataframe thead th {\n",
       "        text-align: right;\n",
       "    }\n",
       "</style>\n",
       "<table border=\"1\" class=\"dataframe\">\n",
       "  <thead>\n",
       "    <tr style=\"text-align: right;\">\n",
       "      <th></th>\n",
       "      <th>satisfaction_level</th>\n",
       "      <th>last_eval_log</th>\n",
       "      <th>number_project</th>\n",
       "      <th>average_montly_hours</th>\n",
       "      <th>time_spend_company</th>\n",
       "      <th>Work_accident</th>\n",
       "      <th>promotion_last_5years</th>\n",
       "      <th>Intercept</th>\n",
       "    </tr>\n",
       "  </thead>\n",
       "  <tbody>\n",
       "    <tr>\n",
       "      <th>0</th>\n",
       "      <td>0.38</td>\n",
       "      <td>-0.634878</td>\n",
       "      <td>2</td>\n",
       "      <td>157</td>\n",
       "      <td>3</td>\n",
       "      <td>0</td>\n",
       "      <td>0</td>\n",
       "      <td>1</td>\n",
       "    </tr>\n",
       "    <tr>\n",
       "      <th>1</th>\n",
       "      <td>0.80</td>\n",
       "      <td>-0.150823</td>\n",
       "      <td>5</td>\n",
       "      <td>262</td>\n",
       "      <td>6</td>\n",
       "      <td>0</td>\n",
       "      <td>0</td>\n",
       "      <td>1</td>\n",
       "    </tr>\n",
       "    <tr>\n",
       "      <th>2</th>\n",
       "      <td>0.11</td>\n",
       "      <td>-0.127833</td>\n",
       "      <td>7</td>\n",
       "      <td>272</td>\n",
       "      <td>4</td>\n",
       "      <td>0</td>\n",
       "      <td>0</td>\n",
       "      <td>1</td>\n",
       "    </tr>\n",
       "    <tr>\n",
       "      <th>3</th>\n",
       "      <td>0.72</td>\n",
       "      <td>-0.139262</td>\n",
       "      <td>5</td>\n",
       "      <td>223</td>\n",
       "      <td>5</td>\n",
       "      <td>0</td>\n",
       "      <td>0</td>\n",
       "      <td>1</td>\n",
       "    </tr>\n",
       "    <tr>\n",
       "      <th>4</th>\n",
       "      <td>0.37</td>\n",
       "      <td>-0.653926</td>\n",
       "      <td>2</td>\n",
       "      <td>159</td>\n",
       "      <td>3</td>\n",
       "      <td>0</td>\n",
       "      <td>0</td>\n",
       "      <td>1</td>\n",
       "    </tr>\n",
       "  </tbody>\n",
       "</table>\n",
       "</div>"
      ],
      "text/plain": [
       "   satisfaction_level  last_eval_log  number_project  average_montly_hours  \\\n",
       "0                0.38      -0.634878               2                   157   \n",
       "1                0.80      -0.150823               5                   262   \n",
       "2                0.11      -0.127833               7                   272   \n",
       "3                0.72      -0.139262               5                   223   \n",
       "4                0.37      -0.653926               2                   159   \n",
       "\n",
       "   time_spend_company  Work_accident  promotion_last_5years  Intercept  \n",
       "0                   3              0                      0          1  \n",
       "1                   6              0                      0          1  \n",
       "2                   4              0                      0          1  \n",
       "3                   5              0                      0          1  \n",
       "4                   3              0                      0          1  "
      ]
     },
     "execution_count": 63,
     "metadata": {},
     "output_type": "execute_result"
    }
   ],
   "source": [
    "X.head()"
   ]
  },
  {
   "cell_type": "code",
   "execution_count": 64,
   "id": "6856f3f2",
   "metadata": {},
   "outputs": [
    {
     "name": "stdout",
     "output_type": "stream",
     "text": [
      "               variables        VIF\n",
      "0     satisfaction_level   1.067160\n",
      "1          last_eval_log   1.246795\n",
      "2         number_project   1.355188\n",
      "3   average_montly_hours   1.281311\n",
      "4     time_spend_company   1.058839\n",
      "5          Work_accident   1.005208\n",
      "6  promotion_last_5years   1.007573\n",
      "7              Intercept  48.504410\n"
     ]
    }
   ],
   "source": [
    "from statsmodels.stats.outliers_influence import variance_inflation_factor \n",
    "\n",
    "# Вычисляем и смотрим VIF\n",
    "vif = pd.DataFrame()\n",
    "vif['variables'] = X.columns\n",
    "vif['VIF'] = [variance_inflation_factor(X.values, i) for i in range(X.shape[1])]\n",
    "\n",
    "# Просмотр результатов\n",
    "print(vif)"
   ]
  },
  {
   "cell_type": "code",
   "execution_count": null,
   "id": "9e600b9c",
   "metadata": {},
   "outputs": [],
   "source": [
    "Поскольку VIF ближе к 1, мы можем сказать, что существует умеренная корреляция между\n",
    "объясняющими переменными."
   ]
  },
  {
   "cell_type": "code",
   "execution_count": null,
   "id": "c0ef4261",
   "metadata": {},
   "outputs": [],
   "source": [
    "Разработка и оценка модели"
   ]
  },
  {
   "cell_type": "code",
   "execution_count": 65,
   "id": "ab72435e",
   "metadata": {},
   "outputs": [],
   "source": [
    "# пробуем разные функции\n",
    "df_model = df[\n",
    "    ['satisfaction_level',\n",
    "    'last_eval_log',\n",
    "    'number_project', \n",
    "    'average_montly_hours',\n",
    "    'time_spend_company',\n",
    "    'Work_accident',\n",
    "    'promotion_last_5years'\n",
    "    ]\n",
    "  ]"
   ]
  },
  {
   "cell_type": "code",
   "execution_count": 66,
   "id": "0e5598af",
   "metadata": {},
   "outputs": [],
   "source": [
    "from sklearn.model_selection import train_test_split\n",
    "X_train, X_test, y_train, y_test = train_test_split(df_model, df['left'], test_size = 0.30, random_state = 42)"
   ]
  },
  {
   "cell_type": "code",
   "execution_count": 67,
   "id": "35ce7821",
   "metadata": {},
   "outputs": [],
   "source": [
    "# масштабирование объектов\n",
    "from sklearn.preprocessing import StandardScaler\n",
    "\n",
    "sc = StandardScaler()\n",
    "X_train = sc.fit_transform(X_train)\n",
    "X_test = sc.transform(X_test)"
   ]
  },
  {
   "cell_type": "code",
   "execution_count": 68,
   "id": "784d19e6",
   "metadata": {},
   "outputs": [
    {
     "data": {
      "text/plain": [
       "LinearDiscriminantAnalysis()"
      ]
     },
     "execution_count": 68,
     "metadata": {},
     "output_type": "execute_result"
    }
   ],
   "source": [
    "# LDA модель\n",
    "from sklearn.discriminant_analysis import LinearDiscriminantAnalysis\n",
    "lda = LinearDiscriminantAnalysis()\n",
    "lda.fit(X_train, y_train)"
   ]
  },
  {
   "cell_type": "code",
   "execution_count": 69,
   "id": "7aa784c5",
   "metadata": {},
   "outputs": [
    {
     "data": {
      "text/plain": [
       "array([0, 0, 0, ..., 0, 0, 0], dtype=int64)"
      ]
     },
     "execution_count": 69,
     "metadata": {},
     "output_type": "execute_result"
    }
   ],
   "source": [
    "# составление прогноза\n",
    "lda.predict(X_test)"
   ]
  },
  {
   "cell_type": "code",
   "execution_count": 70,
   "id": "e207fa8d",
   "metadata": {},
   "outputs": [
    {
     "data": {
      "text/plain": [
       "0.7557777777777778"
      ]
     },
     "execution_count": 70,
     "metadata": {},
     "output_type": "execute_result"
    }
   ],
   "source": [
    "# измерение производительности\n",
    "from sklearn.metrics import accuracy_score\n",
    "accuracy_score(y_test, lda.predict(X_test))"
   ]
  },
  {
   "cell_type": "code",
   "execution_count": null,
   "id": "f98fee58",
   "metadata": {},
   "outputs": [],
   "source": [
    "Логистическая регрессия"
   ]
  },
  {
   "cell_type": "code",
   "execution_count": 71,
   "id": "373f80b1",
   "metadata": {},
   "outputs": [],
   "source": [
    "# пробуем разные функции\n",
    "df_model_2 = df[\n",
    "    ['satisfaction_level',\n",
    "    'last_eval_log',\n",
    "    'number_project', \n",
    "    'average_montly_hours',\n",
    "    'time_spend_company',\n",
    "    'Work_accident',\n",
    "    'promotion_last_5years'\n",
    "    ]\n",
    "  ]"
   ]
  },
  {
   "cell_type": "code",
   "execution_count": 72,
   "id": "d2f336fb",
   "metadata": {},
   "outputs": [],
   "source": [
    "X_train, X_test, y_train, y_test = train_test_split(df_model_2, df['left'], test_size = 0.30, random_state = 42)"
   ]
  },
  {
   "cell_type": "code",
   "execution_count": 73,
   "id": "a8251102",
   "metadata": {},
   "outputs": [],
   "source": [
    "sc = StandardScaler()\n",
    "X_train = sc.fit_transform(X_train)\n",
    "X_test = sc.transform(X_test)"
   ]
  },
  {
   "cell_type": "code",
   "execution_count": 74,
   "id": "bf30a26a",
   "metadata": {},
   "outputs": [
    {
     "data": {
      "text/plain": [
       "LogisticRegression(random_state=42)"
      ]
     },
     "execution_count": 74,
     "metadata": {},
     "output_type": "execute_result"
    }
   ],
   "source": [
    "# Логистическая регрессия\n",
    "from sklearn.linear_model import LogisticRegression\n",
    "lr = LogisticRegression(random_state = 42)\n",
    "lr.fit(X_train, y_train)"
   ]
  },
  {
   "cell_type": "code",
   "execution_count": 75,
   "id": "b5b796f5",
   "metadata": {},
   "outputs": [
    {
     "name": "stdout",
     "output_type": "stream",
     "text": [
      "[[3160  268]\n",
      " [ 816  256]]\n",
      "0.7591111111111111\n"
     ]
    }
   ],
   "source": [
    "# измерение производительности\n",
    "from sklearn.metrics import confusion_matrix\n",
    "print(confusion_matrix(y_test, lr.predict(X_test)))\n",
    "print(accuracy_score(y_test, lr.predict(X_test)))"
   ]
  },
  {
   "cell_type": "code",
   "execution_count": null,
   "id": "c088f415",
   "metadata": {},
   "outputs": [],
   "source": [
    "Классификатор Random Forest"
   ]
  },
  {
   "cell_type": "code",
   "execution_count": 76,
   "id": "4636639c",
   "metadata": {},
   "outputs": [],
   "source": [
    "# пробуем разные признаки\n",
    "df_model_3 = df[\n",
    "    ['satisfaction_level',\n",
    "    'last_eval_log',\n",
    "    'number_project', \n",
    "    'average_montly_hours',\n",
    "    'time_spend_company',\n",
    "    'Work_accident',\n",
    "    'promotion_last_5years',\n",
    "    'department',\n",
    "    'salary'\n",
    "    ]\n",
    "  ]"
   ]
  },
  {
   "cell_type": "code",
   "execution_count": 77,
   "id": "e233585d",
   "metadata": {},
   "outputs": [],
   "source": [
    "X_train, X_test, y_train, y_test = train_test_split(df_model_3, df['left'], test_size = 0.30, random_state = 42)"
   ]
  },
  {
   "cell_type": "code",
   "execution_count": 78,
   "id": "2fd06917",
   "metadata": {},
   "outputs": [],
   "source": [
    "sc = StandardScaler()\n",
    "X_train = sc.fit_transform(X_train)\n",
    "X_test = sc.transform(X_test)"
   ]
  },
  {
   "cell_type": "code",
   "execution_count": 79,
   "id": "9942d2ff",
   "metadata": {},
   "outputs": [],
   "source": [
    "# Классификатор Random Forest\n",
    "from sklearn.ensemble import RandomForestClassifier\n",
    "\n",
    "classifier = RandomForestClassifier(criterion = 'gini',\n",
    "                                    n_estimators = 100,\n",
    "                                    max_depth = 9,\n",
    "                                    random_state = 42,\n",
    "                                    n_jobs = -1)\n",
    "\n",
    "classifier.fit(X_train, y_train)\n",
    "y_pred = classifier.predict(X_test)"
   ]
  },
  {
   "cell_type": "code",
   "execution_count": 80,
   "id": "73c45087",
   "metadata": {},
   "outputs": [
    {
     "name": "stdout",
     "output_type": "stream",
     "text": [
      "[[3418   10]\n",
      " [  95  977]]\n",
      "0.9766666666666667\n"
     ]
    }
   ],
   "source": [
    "# измерение производительности теста\n",
    "print(confusion_matrix(y_test, y_pred))\n",
    "print(accuracy_score(y_test, y_pred))"
   ]
  },
  {
   "cell_type": "code",
   "execution_count": null,
   "id": "d3afd569",
   "metadata": {},
   "outputs": [],
   "source": [
    "Попытка выбора признаков для уменьшения дисперсии модели и, следовательно, переобучения."
   ]
  },
  {
   "cell_type": "code",
   "execution_count": 81,
   "id": "3fa55595",
   "metadata": {},
   "outputs": [],
   "source": [
    "feat_labels = ['satisfaction_level',\n",
    "    'last_eval_log',\n",
    "    'number_project', \n",
    "    'average_montly_hours',\n",
    "    'time_spend_company',\n",
    "    'Work_accident',\n",
    "    'promotion_last_5years',\n",
    "    'department',\n",
    "    'salary'\n",
    "    ]"
   ]
  },
  {
   "cell_type": "code",
   "execution_count": 82,
   "id": "7f2e0cc3",
   "metadata": {},
   "outputs": [
    {
     "name": "stdout",
     "output_type": "stream",
     "text": [
      "('satisfaction_level', 0.33518238819427854)\n",
      "('last_eval_log', 0.11467868669774808)\n",
      "('number_project', 0.19991554815436824)\n",
      "('average_montly_hours', 0.15054996293765044)\n",
      "('time_spend_company', 0.1849053997672037)\n",
      "('Work_accident', 0.0043681189902708825)\n",
      "('promotion_last_5years', 0.0007858384076546757)\n",
      "('department', 0.004841179779207061)\n",
      "('salary', 0.004772877071618341)\n"
     ]
    }
   ],
   "source": [
    "# название и коэфф. Джини для каждого признака\n",
    "for feature in zip(feat_labels, classifier.feature_importances_):\n",
    "    print(feature)"
   ]
  },
  {
   "cell_type": "code",
   "execution_count": 83,
   "id": "5a4c3e40",
   "metadata": {},
   "outputs": [
    {
     "data": {
      "text/plain": [
       "SelectFromModel(estimator=RandomForestClassifier(max_depth=9, n_jobs=-1,\n",
       "                                                 random_state=42),\n",
       "                threshold=0.1)"
      ]
     },
     "execution_count": 83,
     "metadata": {},
     "output_type": "execute_result"
    }
   ],
   "source": [
    "# объект селектора, который будет использовать классификатор случайного леса для определения \n",
    "# важности объекта > 0.10\n",
    "from sklearn.feature_selection import SelectFromModel\n",
    "sfm = SelectFromModel(classifier, threshold = 0.10)\n",
    "\n",
    "#обучение селектора\n",
    "sfm.fit(X_train, y_train)"
   ]
  },
  {
   "cell_type": "code",
   "execution_count": 84,
   "id": "a6f98e8d",
   "metadata": {},
   "outputs": [
    {
     "name": "stdout",
     "output_type": "stream",
     "text": [
      "satisfaction_level\n",
      "last_eval_log\n",
      "number_project\n",
      "average_montly_hours\n",
      "time_spend_company\n"
     ]
    }
   ],
   "source": [
    "# названия наиболее важных признаков\n",
    "for feature_list_index in sfm.get_support(indices = True):\n",
    "    print(feat_labels[feature_list_index])"
   ]
  },
  {
   "cell_type": "code",
   "execution_count": 85,
   "id": "9b4aa11e",
   "metadata": {},
   "outputs": [],
   "source": [
    "# преобразование данных для создания нового набора данных, содержащего только самые важные функции\n",
    "X_important_train = sfm.transform(X_train)\n",
    "X_important_test = sfm.transform(X_test)"
   ]
  },
  {
   "cell_type": "code",
   "execution_count": 86,
   "id": "c5d5f40a",
   "metadata": {},
   "outputs": [
    {
     "data": {
      "text/plain": [
       "RandomForestClassifier(n_jobs=-1, random_state=42)"
      ]
     },
     "execution_count": 86,
     "metadata": {},
     "output_type": "execute_result"
    }
   ],
   "source": [
    "# новый классификатор случайного леса для наиболее важных признаков\n",
    "clf_important = RandomForestClassifier(n_estimators = 100, random_state = 42, n_jobs = -1)\n",
    "\n",
    "# новый классификатор в новом наборе данных, содержащем наиболее важные характеристики\n",
    "clf_important.fit(X_important_train, y_train)"
   ]
  },
  {
   "cell_type": "code",
   "execution_count": 87,
   "id": "a2ce01c9",
   "metadata": {},
   "outputs": [
    {
     "data": {
      "text/plain": [
       "0.9886666666666667"
      ]
     },
     "execution_count": 87,
     "metadata": {},
     "output_type": "execute_result"
    }
   ],
   "source": [
    "# применение полнофункционального классификатора к тестовым данным\n",
    "y_important_pred = clf_important.predict(X_important_test)\n",
    "\n",
    "# просмотр точности модели ограниченных объектов\n",
    "accuracy_score(y_test, y_important_pred)"
   ]
  },
  {
   "cell_type": "code",
   "execution_count": null,
   "id": "2821414f",
   "metadata": {},
   "outputs": [],
   "source": [
    "Вывод: \n",
    "    В этом исследовании мы решили сравнить модели LDA, логистической регрессии и \n",
    "    классификатора случайный лес. Поскольку данные сильно искажены, иногда бимодальны\n",
    "    и включают категориальные переменные, модель классификатора случайный лес показала наилучшие\n",
    "    результаты с точностью 97,7%. Выбор важности признака позволил повысить точность до 98,9% и \n",
    "    в то же время снизить сложность модели."
   ]
  }
 ],
 "metadata": {
  "kernelspec": {
   "display_name": "Python 3 (ipykernel)",
   "language": "python",
   "name": "python3"
  },
  "language_info": {
   "codemirror_mode": {
    "name": "ipython",
    "version": 3
   },
   "file_extension": ".py",
   "mimetype": "text/x-python",
   "name": "python",
   "nbconvert_exporter": "python",
   "pygments_lexer": "ipython3",
   "version": "3.9.7"
  }
 },
 "nbformat": 4,
 "nbformat_minor": 5
}
